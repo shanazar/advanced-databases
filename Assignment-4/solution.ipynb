{
 "cells": [
  {
   "cell_type": "markdown",
   "id": "92d3bbacd2f4a9a3",
   "metadata": {},
   "source": [
    "# Assignment #4 - automation\n",
    "## Advanced Databases\n",
    "### Kristjan Lõhmus, Rimmo Rõõm\n"
   ]
  },
  {
   "cell_type": "markdown",
   "id": "a977c630ed91f147",
   "metadata": {},
   "source": [
    "### Preliminaries\n",
    "\n",
    "Install postgres connector and establish connection"
   ]
  },
  {
   "cell_type": "code",
   "execution_count": 1,
   "id": "caed2e38a194c421",
   "metadata": {
    "ExecuteTime": {
     "end_time": "2024-05-15T21:10:14.860900Z",
     "start_time": "2024-05-15T21:10:14.355210Z"
    }
   },
   "outputs": [],
   "source": [
    "import psycopg2\n",
    "import pandas.io.sql as sqlio\n",
    "import pandas as pd\n",
    "import warnings\n",
    "\n",
    "warnings.filterwarnings('ignore')"
   ]
  },
  {
   "cell_type": "code",
   "execution_count": 2,
   "id": "d69a865fdeb0ef23",
   "metadata": {
    "ExecuteTime": {
     "end_time": "2024-05-15T21:10:14.976405Z",
     "start_time": "2024-05-15T21:10:14.862906Z"
    }
   },
   "outputs": [],
   "source": [
    "conn = psycopg2.connect(\n",
    "    host= 'localhost',\n",
    "    password = \"postgres\",\n",
    "    user = \"postgres\",\n",
    "    port = 5432,\n",
    "    )\n",
    "conn.autocommit = True\n",
    "cursor = conn.cursor()\n",
    "cursor.execute('CREATE SCHEMA sales_info;')\n",
    "cursor.execute('set search_path = \"sales_info\";')"
   ]
  },
  {
   "cell_type": "markdown",
   "id": "a064dbe64a840127",
   "metadata": {},
   "source": [
    "### A. Constraints programming\n",
    "\n",
    "#### 1. Implement the structure of this system by creating the tables."
   ]
  },
  {
   "cell_type": "code",
   "execution_count": 3,
   "id": "6a589c3f1fe3870e",
   "metadata": {
    "ExecuteTime": {
     "end_time": "2024-05-15T21:10:15.073918Z",
     "start_time": "2024-05-15T21:10:14.977415Z"
    }
   },
   "outputs": [],
   "source": [
    "cursor.execute(\"\"\"\n",
    "CREATE TABLE Invoice (\n",
    "                         IdInv SERIAL PRIMARY KEY,\n",
    "                         DateInv DATE NOT NULL,\n",
    "                         DatePay DATE,\n",
    "                         ModePay VARCHAR(50) DEFAULT 'Card' CHECK (ModePay IN ('Check', 'Card', 'Cash')),\n",
    "                         Status VARCHAR(50) DEFAULT 'Not Paid' CHECK (Status IN ('Paid', 'Not Paid'))\n",
    ");\n",
    "\n",
    "-- Create Product table\n",
    "CREATE TABLE Product (\n",
    "                         BareCode VARCHAR(50) PRIMARY KEY,\n",
    "                         Label VARCHAR(100) NOT NULL,\n",
    "                         Category VARCHAR(50),\n",
    "                         Stock INT CHECK (Stock > 0)\n",
    ");\n",
    "\n",
    "-- Create Customer table\n",
    "CREATE TABLE Customer (\n",
    "                          IdCust SERIAL PRIMARY KEY,\n",
    "                          Name VARCHAR(100) NOT NULL,\n",
    "                          Phone VARCHAR(20) NOT NULL CHECK (Phone LIKE '00%')\n",
    ");\n",
    "\n",
    "-- Create OrderC table\n",
    "CREATE TABLE OrderC (\n",
    "                        IdOrd SERIAL PRIMARY KEY,\n",
    "                        DateOrd DATE NOT NULL,\n",
    "                        StatusOrd VARCHAR(50) DEFAULT 'Pending' CHECK (StatusOrd IN ('validate', 'Pending', 'Partial')),\n",
    "                        IdCust INT REFERENCES Customer(IdCust),\n",
    "                        IdInv INT REFERENCES Invoice(IdInv)\n",
    ");\n",
    "\n",
    "-- Create Delivery table\n",
    "CREATE TABLE Delivery (\n",
    "                          IdDel SERIAL PRIMARY KEY,\n",
    "                          DateExp DATE,\n",
    "                          DateDel DATE\n",
    ");\n",
    "\n",
    "-- Create OrderLigne table\n",
    "CREATE TABLE OrderLigne (\n",
    "                            IdOrLi SERIAL PRIMARY KEY,\n",
    "                            Quantity INT NOT NULL CHECK (Quantity > 0),\n",
    "                            StatusOrLig VARCHAR(50) DEFAULT 'Preparation' CHECK (StatusOrLig IN ('Preparation', 'prepared', 'Supply')),\n",
    "                            IdOrd INT REFERENCES OrderC(IdOrd),\n",
    "                            IdDel INT REFERENCES Delivery(IdDel) NULL,\n",
    "                            BareCode VARCHAR(50) REFERENCES Product(BareCode)\n",
    ");\n",
    "\"\"\")"
   ]
  },
  {
   "cell_type": "markdown",
   "id": "61b3cf07941050bf",
   "metadata": {},
   "source": [
    "Resulting schema:\n",
    "\n",
    "![Implemented schema](screenshots/01.sales_info.png)"
   ]
  },
  {
   "cell_type": "markdown",
   "id": "df3d3a275282e3b2",
   "metadata": {},
   "source": [
    "#### 2. Data insertion\n",
    "\n",
    "##### a. Let’s assume we have customer (‘Alice’,’002736014251’); and four Products (AAA001, ‘Wood Chair’, ‘House’, 10); (AAA002, ‘Iron bed’, ‘House’, 5); (AAA003, ‘Mathematics Book’, ‘Education’, 2); (AAA004, ‘Couch’, ‘House’, 2) in our system."
   ]
  },
  {
   "cell_type": "code",
   "execution_count": 4,
   "id": "be01ef0da8389300",
   "metadata": {
    "ExecuteTime": {
     "end_time": "2024-05-15T21:10:15.094444Z",
     "start_time": "2024-05-15T21:10:15.074923Z"
    }
   },
   "outputs": [
    {
     "data": {
      "text/html": [
       "<div>\n",
       "<style scoped>\n",
       "    .dataframe tbody tr th:only-of-type {\n",
       "        vertical-align: middle;\n",
       "    }\n",
       "\n",
       "    .dataframe tbody tr th {\n",
       "        vertical-align: top;\n",
       "    }\n",
       "\n",
       "    .dataframe thead th {\n",
       "        text-align: right;\n",
       "    }\n",
       "</style>\n",
       "<table border=\"1\" class=\"dataframe\">\n",
       "  <thead>\n",
       "    <tr style=\"text-align: right;\">\n",
       "      <th></th>\n",
       "      <th>idcust</th>\n",
       "      <th>name</th>\n",
       "      <th>phone</th>\n",
       "    </tr>\n",
       "  </thead>\n",
       "  <tbody>\n",
       "    <tr>\n",
       "      <th>0</th>\n",
       "      <td>1</td>\n",
       "      <td>Alice</td>\n",
       "      <td>002736014251</td>\n",
       "    </tr>\n",
       "  </tbody>\n",
       "</table>\n",
       "</div>"
      ],
      "text/plain": [
       "   idcust   name         phone\n",
       "0       1  Alice  002736014251"
      ]
     },
     "execution_count": 4,
     "metadata": {},
     "output_type": "execute_result"
    }
   ],
   "source": [
    "cursor.execute(\"\"\"INSERT INTO customer(Name, Phone) values ('Alice','002736014251');\"\"\")\n",
    "sqlio.read_sql_query(\"SELECT * FROM customer\", conn).head()"
   ]
  },
  {
   "cell_type": "code",
   "execution_count": 5,
   "id": "1c1a5b6f63fa8092",
   "metadata": {
    "ExecuteTime": {
     "end_time": "2024-05-15T21:10:15.112656Z",
     "start_time": "2024-05-15T21:10:15.096451Z"
    }
   },
   "outputs": [
    {
     "data": {
      "text/html": [
       "<div>\n",
       "<style scoped>\n",
       "    .dataframe tbody tr th:only-of-type {\n",
       "        vertical-align: middle;\n",
       "    }\n",
       "\n",
       "    .dataframe tbody tr th {\n",
       "        vertical-align: top;\n",
       "    }\n",
       "\n",
       "    .dataframe thead th {\n",
       "        text-align: right;\n",
       "    }\n",
       "</style>\n",
       "<table border=\"1\" class=\"dataframe\">\n",
       "  <thead>\n",
       "    <tr style=\"text-align: right;\">\n",
       "      <th></th>\n",
       "      <th>barecode</th>\n",
       "      <th>label</th>\n",
       "      <th>category</th>\n",
       "      <th>stock</th>\n",
       "    </tr>\n",
       "  </thead>\n",
       "  <tbody>\n",
       "    <tr>\n",
       "      <th>0</th>\n",
       "      <td>AAA001</td>\n",
       "      <td>Wood Chair</td>\n",
       "      <td>House</td>\n",
       "      <td>10</td>\n",
       "    </tr>\n",
       "    <tr>\n",
       "      <th>1</th>\n",
       "      <td>AAA002</td>\n",
       "      <td>Iron bed</td>\n",
       "      <td>House</td>\n",
       "      <td>5</td>\n",
       "    </tr>\n",
       "    <tr>\n",
       "      <th>2</th>\n",
       "      <td>AAA003</td>\n",
       "      <td>Mathematics Book</td>\n",
       "      <td>Education</td>\n",
       "      <td>2</td>\n",
       "    </tr>\n",
       "    <tr>\n",
       "      <th>3</th>\n",
       "      <td>AAA004</td>\n",
       "      <td>Couch</td>\n",
       "      <td>House</td>\n",
       "      <td>2</td>\n",
       "    </tr>\n",
       "  </tbody>\n",
       "</table>\n",
       "</div>"
      ],
      "text/plain": [
       "  barecode             label   category  stock\n",
       "0   AAA001        Wood Chair      House     10\n",
       "1   AAA002          Iron bed      House      5\n",
       "2   AAA003  Mathematics Book  Education      2\n",
       "3   AAA004             Couch      House      2"
      ]
     },
     "execution_count": 5,
     "metadata": {},
     "output_type": "execute_result"
    }
   ],
   "source": [
    "cursor.execute(\"\"\"\n",
    "insert into product(BareCode, Label, Category, Stock) values\n",
    "('AAA001', 'Wood Chair', 'House', 10),\n",
    "('AAA002', 'Iron bed', 'House', 5),\n",
    "('AAA003', 'Mathematics Book', 'Education', 2),\n",
    "('AAA004', 'Couch', 'House', 2);\n",
    "\"\"\")\n",
    "initial_stock = sqlio.read_sql_query(\"SELECT * FROM product\", conn)\n",
    "initial_stock.head()"
   ]
  },
  {
   "cell_type": "markdown",
   "id": "f6a8df101537a813",
   "metadata": {},
   "source": [
    "##### b. Customer Alice order by phone three products concerning (Wood chair, 5); (Mathematics Book’, 4); (Couch, 1). Her primarily choice was to pay by card but unfortunately the payment was rejected so she said she will make the payment by cash after some days.\n"
   ]
  },
  {
   "cell_type": "code",
   "execution_count": 6,
   "id": "495d300b9cfa584e",
   "metadata": {
    "ExecuteTime": {
     "end_time": "2024-05-15T21:10:15.129641Z",
     "start_time": "2024-05-15T21:10:15.113663Z"
    }
   },
   "outputs": [],
   "source": [
    "cursor.execute(\"\"\"\n",
    "-- Insert into Invoice table\n",
    "INSERT INTO Invoice (DateInv, ModePay, Status) VALUES\n",
    "    (CURRENT_DATE, 'Card', 'Not Paid');\n",
    "\n",
    "-- Assuming IdCust = 1 and IdInv = 1\n",
    "-- Insert into OrderC table\n",
    "INSERT INTO OrderC (DateOrd, StatusOrd, IdCust, IdInv) VALUES\n",
    "    (CURRENT_DATE, 'Pending', 1, 1);\n",
    "\n",
    "-- Assuming IdOrd = 1\n",
    "-- Insert into OrderLigne table\n",
    "INSERT INTO OrderLigne (Quantity, StatusOrLig, IdOrd, BareCode) VALUES\n",
    "                                                                    (5, 'Preparation', 1, 'AAA001'),  -- Wood Chair\n",
    "                                                                    (4, 'Preparation', 1, 'AAA003'),  -- Mathematics Book\n",
    "                                                                    (1, 'Preparation', 1, 'AAA004');  -- Couch\n",
    "\n",
    "-- Update the Invoice for payment by cash\n",
    "UPDATE Invoice\n",
    "SET ModePay = 'Cash'\n",
    "WHERE IdInv = 1;\n",
    "\"\"\"\n",
    ")"
   ]
  },
  {
   "cell_type": "code",
   "execution_count": 7,
   "id": "330bac004566e293",
   "metadata": {
    "ExecuteTime": {
     "end_time": "2024-05-15T21:10:15.145969Z",
     "start_time": "2024-05-15T21:10:15.130645Z"
    }
   },
   "outputs": [
    {
     "data": {
      "text/html": [
       "<div>\n",
       "<style scoped>\n",
       "    .dataframe tbody tr th:only-of-type {\n",
       "        vertical-align: middle;\n",
       "    }\n",
       "\n",
       "    .dataframe tbody tr th {\n",
       "        vertical-align: top;\n",
       "    }\n",
       "\n",
       "    .dataframe thead th {\n",
       "        text-align: right;\n",
       "    }\n",
       "</style>\n",
       "<table border=\"1\" class=\"dataframe\">\n",
       "  <thead>\n",
       "    <tr style=\"text-align: right;\">\n",
       "      <th></th>\n",
       "      <th>customername</th>\n",
       "      <th>customerphone</th>\n",
       "      <th>orderdate</th>\n",
       "      <th>orderstatus</th>\n",
       "      <th>invoicedate</th>\n",
       "      <th>paymentdate</th>\n",
       "      <th>paymentmode</th>\n",
       "      <th>paymentstatus</th>\n",
       "      <th>productquantity</th>\n",
       "      <th>orderlinestatus</th>\n",
       "      <th>productcode</th>\n",
       "      <th>productlabel</th>\n",
       "      <th>productcategory</th>\n",
       "    </tr>\n",
       "  </thead>\n",
       "  <tbody>\n",
       "    <tr>\n",
       "      <th>0</th>\n",
       "      <td>Alice</td>\n",
       "      <td>002736014251</td>\n",
       "      <td>2024-05-15</td>\n",
       "      <td>Pending</td>\n",
       "      <td>2024-05-15</td>\n",
       "      <td>None</td>\n",
       "      <td>Cash</td>\n",
       "      <td>Not Paid</td>\n",
       "      <td>5</td>\n",
       "      <td>Preparation</td>\n",
       "      <td>AAA001</td>\n",
       "      <td>Wood Chair</td>\n",
       "      <td>House</td>\n",
       "    </tr>\n",
       "    <tr>\n",
       "      <th>1</th>\n",
       "      <td>Alice</td>\n",
       "      <td>002736014251</td>\n",
       "      <td>2024-05-15</td>\n",
       "      <td>Pending</td>\n",
       "      <td>2024-05-15</td>\n",
       "      <td>None</td>\n",
       "      <td>Cash</td>\n",
       "      <td>Not Paid</td>\n",
       "      <td>4</td>\n",
       "      <td>Preparation</td>\n",
       "      <td>AAA003</td>\n",
       "      <td>Mathematics Book</td>\n",
       "      <td>Education</td>\n",
       "    </tr>\n",
       "    <tr>\n",
       "      <th>2</th>\n",
       "      <td>Alice</td>\n",
       "      <td>002736014251</td>\n",
       "      <td>2024-05-15</td>\n",
       "      <td>Pending</td>\n",
       "      <td>2024-05-15</td>\n",
       "      <td>None</td>\n",
       "      <td>Cash</td>\n",
       "      <td>Not Paid</td>\n",
       "      <td>1</td>\n",
       "      <td>Preparation</td>\n",
       "      <td>AAA004</td>\n",
       "      <td>Couch</td>\n",
       "      <td>House</td>\n",
       "    </tr>\n",
       "  </tbody>\n",
       "</table>\n",
       "</div>"
      ],
      "text/plain": [
       "  customername customerphone   orderdate orderstatus invoicedate paymentdate  \\\n",
       "0        Alice  002736014251  2024-05-15     Pending  2024-05-15        None   \n",
       "1        Alice  002736014251  2024-05-15     Pending  2024-05-15        None   \n",
       "2        Alice  002736014251  2024-05-15     Pending  2024-05-15        None   \n",
       "\n",
       "  paymentmode paymentstatus  productquantity orderlinestatus productcode  \\\n",
       "0        Cash      Not Paid                5     Preparation      AAA001   \n",
       "1        Cash      Not Paid                4     Preparation      AAA003   \n",
       "2        Cash      Not Paid                1     Preparation      AAA004   \n",
       "\n",
       "       productlabel productcategory  \n",
       "0        Wood Chair           House  \n",
       "1  Mathematics Book       Education  \n",
       "2             Couch           House  "
      ]
     },
     "execution_count": 7,
     "metadata": {},
     "output_type": "execute_result"
    }
   ],
   "source": [
    "sqlio.read_sql_query(\"\"\"\n",
    "SELECT \n",
    "    c.Name AS CustomerName,\n",
    "    c.Phone AS CustomerPhone,\n",
    "    o.DateOrd AS OrderDate,\n",
    "    o.StatusOrd AS OrderStatus,\n",
    "    i.DateInv AS InvoiceDate,\n",
    "    i.DatePay AS PaymentDate,\n",
    "    i.ModePay AS PaymentMode,\n",
    "    i.Status AS PaymentStatus,\n",
    "    ol.Quantity AS ProductQuantity,\n",
    "    ol.StatusOrLig AS OrderLineStatus,\n",
    "    p.BareCode AS ProductCode,\n",
    "    p.Label AS ProductLabel,\n",
    "    p.Category AS ProductCategory\n",
    "FROM \n",
    "    Customer c\n",
    "JOIN \n",
    "    OrderC o ON c.IdCust = o.IdCust\n",
    "JOIN \n",
    "    Invoice i ON o.IdInv = i.IdInv\n",
    "JOIN \n",
    "    OrderLigne ol ON o.IdOrd = ol.IdOrd\n",
    "JOIN \n",
    "    Product p ON ol.BareCode = p.BareCode\n",
    "WHERE \n",
    "    c.Name = 'Alice' \n",
    "    AND c.Phone = '002736014251';\n",
    "\n",
    "\"\"\", conn).head()"
   ]
  },
  {
   "cell_type": "markdown",
   "id": "66c12d6961594a56",
   "metadata": {},
   "source": [
    "### B. Automation\n",
    "\n",
    "#### 1. Implement date field auto-insertion for:\n"
   ]
  },
  {
   "cell_type": "code",
   "execution_count": 8,
   "id": "3474d0fb8cd5f7fb",
   "metadata": {
    "ExecuteTime": {
     "end_time": "2024-05-15T21:10:15.153891Z",
     "start_time": "2024-05-15T21:10:15.146977Z"
    }
   },
   "outputs": [],
   "source": [
    "# DateInv\n",
    "cursor.execute(\"\"\"\n",
    "ALTER TABLE Invoice\n",
    "ALTER COLUMN DateInv SET DEFAULT CURRENT_DATE;\n",
    "\"\"\")"
   ]
  },
  {
   "cell_type": "code",
   "execution_count": 9,
   "id": "35f6153406d2f799",
   "metadata": {
    "ExecuteTime": {
     "end_time": "2024-05-15T21:10:15.162225Z",
     "start_time": "2024-05-15T21:10:15.154896Z"
    }
   },
   "outputs": [],
   "source": [
    "# OrderC\n",
    "cursor.execute(\"\"\"\n",
    "ALTER TABLE OrderC\n",
    "ALTER COLUMN DateOrd SET DEFAULT CURRENT_DATE;\n",
    "\"\"\")"
   ]
  },
  {
   "cell_type": "code",
   "execution_count": 10,
   "id": "98e6768ebb38cb4c",
   "metadata": {
    "ExecuteTime": {
     "end_time": "2024-05-15T21:10:15.170215Z",
     "start_time": "2024-05-15T21:10:15.163231Z"
    }
   },
   "outputs": [],
   "source": [
    "# DateExp \n",
    "cursor.execute(\"\"\"\n",
    "ALTER TABLE Delivery\n",
    "ALTER COLUMN DateExp SET DEFAULT CURRENT_DATE;\n",
    "\"\"\")"
   ]
  },
  {
   "cell_type": "code",
   "execution_count": 11,
   "id": "88b2b11a74b7fe9e",
   "metadata": {
    "ExecuteTime": {
     "end_time": "2024-05-15T21:10:15.182149Z",
     "start_time": "2024-05-15T21:10:15.171221Z"
    }
   },
   "outputs": [],
   "source": [
    "# DatePay \n",
    "cursor.execute(\"\"\"\n",
    "CREATE OR REPLACE FUNCTION update_datepay()\n",
    "RETURNS TRIGGER AS $$\n",
    "BEGIN\n",
    "    IF NEW.Status = 'Paid' AND OLD.Status <> 'Paid' THEN\n",
    "        NEW.DatePay = CURRENT_DATE;\n",
    "    END IF;\n",
    "    RETURN NEW;\n",
    "END;\n",
    "$$ LANGUAGE plpgsql;\n",
    "\n",
    "-- Create the trigger for the Invoice table\n",
    "CREATE TRIGGER set_datepay\n",
    "BEFORE UPDATE ON Invoice\n",
    "FOR EACH ROW\n",
    "EXECUTE FUNCTION update_datepay();\n",
    "\"\"\")"
   ]
  },
  {
   "cell_type": "markdown",
   "id": "9419e82ccf7eb779",
   "metadata": {},
   "source": [
    "#### 2. Analyze the automation that start when the Invoice status passes to Paid and implement them using triggers. Remember that you have the ability to control the timing of trigger firing. Below is one possible automation schema:\n",
    "\n",
    "![Task b_02](screenshots/b_02.png)"
   ]
  },
  {
   "cell_type": "code",
   "execution_count": 12,
   "id": "97d9e23fa21b6ee4",
   "metadata": {
    "ExecuteTime": {
     "end_time": "2024-05-15T21:10:15.191287Z",
     "start_time": "2024-05-15T21:10:15.183154Z"
    }
   },
   "outputs": [],
   "source": [
    "# First let's create one for the scenario where an invoice gets paid\n",
    "cursor.execute(\"\"\"\n",
    "CREATE OR REPLACE FUNCTION update_order_line_status()\n",
    "RETURNS TRIGGER AS $$\n",
    "DECLARE\n",
    "    order_id INT;\n",
    "    r_order_line RECORD;\n",
    "    order_partial BOOLEAN := FALSE;\n",
    "BEGIN\n",
    "    IF NEW.Status = 'Paid' THEN\n",
    "        SELECT IdOrd INTO order_id\n",
    "            FROM OrderC\n",
    "        WHERE IdInv = NEW.IdInv\n",
    "            LIMIT 1;\n",
    "        FOR r_order_line IN\n",
    "            SELECT * FROM OrderLigne\n",
    "            WHERE IdOrd = order_id\n",
    "        LOOP\n",
    "            -- Check if product stock is sufficient\n",
    "            IF (SELECT Stock FROM Product WHERE BareCode = r_order_line.BareCode) >= r_order_line.Quantity THEN\n",
    "                -- Update order line status to 'prepared' and decrement the stock\n",
    "                UPDATE OrderLigne\n",
    "                SET StatusOrLig = 'prepared'\n",
    "                WHERE IdOrLi = r_order_line.IdOrLi;\n",
    "                \n",
    "                UPDATE Product\n",
    "                SET Stock = Stock - r_order_line.Quantity\n",
    "                WHERE BareCode = r_order_line.BareCode;\n",
    "                \n",
    "                -- Populate delivery date\n",
    "                UPDATE Delivery\n",
    "                SET DateDel = CURRENT_DATE\n",
    "                WHERE IdDel = r_order_line.IdDel;\n",
    "            ELSE\n",
    "                -- Update order line status to 'Supply' if stock is insufficient\n",
    "                UPDATE OrderLigne\n",
    "                SET StatusOrLig = 'Supply'\n",
    "                WHERE IdOrLi = r_order_line.IdOrLi;\n",
    "                \n",
    "                -- Mark the order as partial\n",
    "                order_partial := TRUE;\n",
    "            END IF;\n",
    "        END LOOP;\n",
    "\n",
    "        -- Update the overall order status\n",
    "        IF order_partial THEN\n",
    "            UPDATE OrderC\n",
    "            SET StatusOrd = 'Partial'\n",
    "            WHERE IdOrd = order_id;\n",
    "        ELSE\n",
    "            UPDATE OrderC\n",
    "            SET StatusOrd = 'validate'\n",
    "            WHERE IdOrd = order_id;\n",
    "        END IF;\n",
    "    END IF;\n",
    "\n",
    "    RETURN NEW;\n",
    "END;\n",
    "$$ LANGUAGE plpgsql;\n",
    "\n",
    "CREATE OR REPLACE TRIGGER trigger_update_order_line_status\n",
    "AFTER UPDATE OF Status ON Invoice\n",
    "FOR EACH ROW\n",
    "WHEN (NEW.Status = 'Paid')\n",
    "EXECUTE FUNCTION update_order_line_status();\n",
    "\n",
    "\"\"\")"
   ]
  },
  {
   "cell_type": "code",
   "execution_count": 13,
   "id": "3880e00f4d99c9ac",
   "metadata": {
    "ExecuteTime": {
     "end_time": "2024-05-15T21:10:15.198734Z",
     "start_time": "2024-05-15T21:10:15.192292Z"
    }
   },
   "outputs": [],
   "source": [
    "cursor.execute(\"\"\"\n",
    "CREATE OR REPLACE FUNCTION populate_delivery_date()\n",
    "RETURNS TRIGGER AS $$\n",
    "BEGIN\n",
    "    IF NEW.StatusOrLig = 'prepared' THEN\n",
    "        UPDATE Delivery\n",
    "        SET DateDel = CURRENT_DATE\n",
    "        WHERE Delivery.IdDel = NEW.IdDel;\n",
    "    END IF;\n",
    "\n",
    "    RETURN NEW;\n",
    "END;\n",
    "$$ LANGUAGE plpgsql;\n",
    "\n",
    "CREATE OR REPLACE TRIGGER trigger_populate_delivery_date\n",
    "AFTER UPDATE OF StatusOrLig ON OrderLigne\n",
    "FOR EACH ROW\n",
    "WHEN (NEW.StatusOrLig = 'prepared')\n",
    "EXECUTE FUNCTION populate_delivery_date();\n",
    "\"\"\")"
   ]
  },
  {
   "cell_type": "code",
   "execution_count": 14,
   "id": "178cd76bcfde32d0",
   "metadata": {
    "ExecuteTime": {
     "end_time": "2024-05-15T21:10:15.208356Z",
     "start_time": "2024-05-15T21:10:15.200738Z"
    }
   },
   "outputs": [],
   "source": [
    "cursor.execute(\"\"\"\n",
    "CREATE OR REPLACE FUNCTION handle_supply_status()\n",
    "RETURNS TRIGGER AS $$\n",
    "DECLARE\n",
    "    r_order_line RECORD;\n",
    "    all_prepared BOOLEAN;\n",
    "BEGIN\n",
    "    FOR r_order_line IN \n",
    "        SELECT ol.*, p.Stock \n",
    "        FROM OrderLigne ol\n",
    "        JOIN Product p ON ol.BareCode = p.BareCode\n",
    "        WHERE ol.StatusOrLig = 'Supply'\n",
    "    LOOP\n",
    "        -- Check if the updated stock is sufficient\n",
    "        IF r_order_line.Stock >= r_order_line.Quantity THEN\n",
    "            -- Update order line status to 'prepared'\n",
    "            UPDATE OrderLigne\n",
    "            SET StatusOrLig = 'prepared'\n",
    "            WHERE IdOrLi = r_order_line.IdOrLi;\n",
    "\n",
    "            -- Decrement the stock\n",
    "            UPDATE Product\n",
    "            SET Stock = Stock - r_order_line.Quantity\n",
    "            WHERE BareCode = r_order_line.BareCode;\n",
    "\n",
    "            -- Populate delivery date\n",
    "            UPDATE Delivery\n",
    "            SET DateDel = CURRENT_DATE\n",
    "            WHERE IdDel = r_order_line.IdDel;\n",
    "            \n",
    "            all_prepared := NOT EXISTS (\n",
    "                SELECT 1\n",
    "                FROM OrderLigne\n",
    "                WHERE IdOrd = r_order_line.IdOrd AND StatusOrLig != 'prepared'\n",
    "            );\n",
    "\n",
    "            IF all_prepared THEN\n",
    "                UPDATE OrderC\n",
    "                SET StatusOrd = 'validate'\n",
    "                WHERE IdOrd = r_order_line.IdOrd;\n",
    "            ELSE\n",
    "                UPDATE OrderC\n",
    "                SET StatusOrd = 'Partial'\n",
    "                WHERE IdOrd = r_order_line.IdOrd;\n",
    "            END IF;\n",
    "        END IF;\n",
    "    END LOOP;\n",
    "RETURN NEW;\n",
    "END;\n",
    "$$ LANGUAGE plpgsql;\n",
    "\n",
    "CREATE OR REPLACE  TRIGGER trigger_check_supply_status\n",
    "AFTER UPDATE OF Stock ON Product\n",
    "FOR EACH ROW\n",
    "EXECUTE FUNCTION handle_supply_status();\n",
    "\n",
    "\"\"\")"
   ]
  },
  {
   "cell_type": "markdown",
   "id": "1e915b5ac1b494f5",
   "metadata": {},
   "source": [
    "#### 3. Let’s assume now that Alice is ready for cash payment. Write an update query to set Invoice status and the mode of payment. "
   ]
  },
  {
   "cell_type": "code",
   "execution_count": 15,
   "id": "3b63ad6eb73d5d3d",
   "metadata": {
    "ExecuteTime": {
     "end_time": "2024-05-15T21:10:15.225367Z",
     "start_time": "2024-05-15T21:10:15.209360Z"
    }
   },
   "outputs": [],
   "source": [
    "cursor.execute(\"\"\"\n",
    "UPDATE Invoice\n",
    "SET ModePay = 'Cash', Status = 'Paid'\n",
    "WHERE IdInv IN (\n",
    "    SELECT o.IdInv\n",
    "    FROM OrderC o\n",
    "    JOIN Customer c ON o.IdCust = c.IdCust\n",
    "    WHERE c.Name = 'Alice' AND c.Phone = '002736014251'\n",
    ");\n",
    "\"\"\")"
   ]
  },
  {
   "cell_type": "markdown",
   "id": "431dc018d4c16384",
   "metadata": {},
   "source": [
    "#### 4. If everything performs exactly, then:"
   ]
  },
  {
   "cell_type": "code",
   "execution_count": 16,
   "id": "180b8e46c87520bf",
   "metadata": {
    "ExecuteTime": {
     "end_time": "2024-05-15T21:10:15.236241Z",
     "start_time": "2024-05-15T21:10:15.226371Z"
    }
   },
   "outputs": [
    {
     "data": {
      "text/html": [
       "<div>\n",
       "<style scoped>\n",
       "    .dataframe tbody tr th:only-of-type {\n",
       "        vertical-align: middle;\n",
       "    }\n",
       "\n",
       "    .dataframe tbody tr th {\n",
       "        vertical-align: top;\n",
       "    }\n",
       "\n",
       "    .dataframe thead th {\n",
       "        text-align: right;\n",
       "    }\n",
       "</style>\n",
       "<table border=\"1\" class=\"dataframe\">\n",
       "  <thead>\n",
       "    <tr style=\"text-align: right;\">\n",
       "      <th></th>\n",
       "      <th>idord</th>\n",
       "      <th>statusord</th>\n",
       "    </tr>\n",
       "  </thead>\n",
       "  <tbody>\n",
       "    <tr>\n",
       "      <th>0</th>\n",
       "      <td>1</td>\n",
       "      <td>Partial</td>\n",
       "    </tr>\n",
       "  </tbody>\n",
       "</table>\n",
       "</div>"
      ],
      "text/plain": [
       "   idord statusord\n",
       "0      1   Partial"
      ]
     },
     "execution_count": 16,
     "metadata": {},
     "output_type": "execute_result"
    }
   ],
   "source": [
    "# OrderStatus to partial\n",
    "\n",
    "sqlio.read_sql_query(\"\"\"\n",
    "SELECT idord, statusord FROM OrderC\n",
    "\"\"\",conn).head()"
   ]
  },
  {
   "cell_type": "code",
   "execution_count": 17,
   "id": "b140666078e7f23a",
   "metadata": {
    "ExecuteTime": {
     "end_time": "2024-05-15T21:10:15.247451Z",
     "start_time": "2024-05-15T21:10:15.237246Z"
    }
   },
   "outputs": [
    {
     "data": {
      "text/html": [
       "<div>\n",
       "<style scoped>\n",
       "    .dataframe tbody tr th:only-of-type {\n",
       "        vertical-align: middle;\n",
       "    }\n",
       "\n",
       "    .dataframe tbody tr th {\n",
       "        vertical-align: top;\n",
       "    }\n",
       "\n",
       "    .dataframe thead th {\n",
       "        text-align: right;\n",
       "    }\n",
       "</style>\n",
       "<table border=\"1\" class=\"dataframe\">\n",
       "  <thead>\n",
       "    <tr style=\"text-align: right;\">\n",
       "      <th></th>\n",
       "      <th>statusorlig</th>\n",
       "    </tr>\n",
       "  </thead>\n",
       "  <tbody>\n",
       "    <tr>\n",
       "      <th>0</th>\n",
       "      <td>prepared</td>\n",
       "    </tr>\n",
       "  </tbody>\n",
       "</table>\n",
       "</div>"
      ],
      "text/plain": [
       "  statusorlig\n",
       "0    prepared"
      ]
     },
     "execution_count": 17,
     "metadata": {},
     "output_type": "execute_result"
    }
   ],
   "source": [
    "# Order ligne status for Wood chair to prepared\n",
    "\n",
    "sqlio.read_sql_query(\"\"\"\n",
    "SELECT statusorlig FROM OrderLigne ol left join Product p on ol.bareCode = p.BareCode\n",
    "WHERE p.label = 'Wood Chair'\n",
    "\"\"\",conn).head()"
   ]
  },
  {
   "cell_type": "code",
   "execution_count": 18,
   "id": "13ae7575e4784442",
   "metadata": {
    "ExecuteTime": {
     "end_time": "2024-05-15T21:10:15.259079Z",
     "start_time": "2024-05-15T21:10:15.248459Z"
    }
   },
   "outputs": [
    {
     "data": {
      "text/html": [
       "<div>\n",
       "<style scoped>\n",
       "    .dataframe tbody tr th:only-of-type {\n",
       "        vertical-align: middle;\n",
       "    }\n",
       "\n",
       "    .dataframe tbody tr th {\n",
       "        vertical-align: top;\n",
       "    }\n",
       "\n",
       "    .dataframe thead th {\n",
       "        text-align: right;\n",
       "    }\n",
       "</style>\n",
       "<table border=\"1\" class=\"dataframe\">\n",
       "  <thead>\n",
       "    <tr style=\"text-align: right;\">\n",
       "      <th></th>\n",
       "      <th>statusorlig</th>\n",
       "    </tr>\n",
       "  </thead>\n",
       "  <tbody>\n",
       "    <tr>\n",
       "      <th>0</th>\n",
       "      <td>prepared</td>\n",
       "    </tr>\n",
       "  </tbody>\n",
       "</table>\n",
       "</div>"
      ],
      "text/plain": [
       "  statusorlig\n",
       "0    prepared"
      ]
     },
     "execution_count": 18,
     "metadata": {},
     "output_type": "execute_result"
    }
   ],
   "source": [
    "# Order ligne status for Couch to prepared\n",
    "\n",
    "sqlio.read_sql_query(\"\"\"\n",
    "SELECT statusorlig FROM OrderLigne ol left join Product p on ol.bareCode = p.BareCode\n",
    "WHERE p.label = 'Couch'\n",
    "\"\"\",conn).head()"
   ]
  },
  {
   "cell_type": "code",
   "execution_count": 19,
   "id": "7255f625ef43ffef",
   "metadata": {
    "ExecuteTime": {
     "end_time": "2024-05-15T21:10:15.270032Z",
     "start_time": "2024-05-15T21:10:15.260084Z"
    }
   },
   "outputs": [
    {
     "data": {
      "text/html": [
       "<div>\n",
       "<style scoped>\n",
       "    .dataframe tbody tr th:only-of-type {\n",
       "        vertical-align: middle;\n",
       "    }\n",
       "\n",
       "    .dataframe tbody tr th {\n",
       "        vertical-align: top;\n",
       "    }\n",
       "\n",
       "    .dataframe thead th {\n",
       "        text-align: right;\n",
       "    }\n",
       "</style>\n",
       "<table border=\"1\" class=\"dataframe\">\n",
       "  <thead>\n",
       "    <tr style=\"text-align: right;\">\n",
       "      <th></th>\n",
       "      <th>statusorlig</th>\n",
       "    </tr>\n",
       "  </thead>\n",
       "  <tbody>\n",
       "    <tr>\n",
       "      <th>0</th>\n",
       "      <td>Supply</td>\n",
       "    </tr>\n",
       "  </tbody>\n",
       "</table>\n",
       "</div>"
      ],
      "text/plain": [
       "  statusorlig\n",
       "0      Supply"
      ]
     },
     "execution_count": 19,
     "metadata": {},
     "output_type": "execute_result"
    }
   ],
   "source": [
    "# Order ligne status for Mathematics Book to Supply\n",
    "\n",
    "sqlio.read_sql_query(\"\"\"\n",
    "SELECT statusorlig FROM OrderLigne ol left join Product p on ol.bareCode = p.BareCode\n",
    "WHERE p.label = 'Mathematics Book'\n",
    "\"\"\",conn).head()"
   ]
  },
  {
   "cell_type": "code",
   "execution_count": 20,
   "id": "c6bf64a2be7ea86f",
   "metadata": {
    "ExecuteTime": {
     "end_time": "2024-05-15T21:10:15.282207Z",
     "start_time": "2024-05-15T21:10:15.271036Z"
    }
   },
   "outputs": [
    {
     "data": {
      "text/html": [
       "<div>\n",
       "<style scoped>\n",
       "    .dataframe tbody tr th:only-of-type {\n",
       "        vertical-align: middle;\n",
       "    }\n",
       "\n",
       "    .dataframe tbody tr th {\n",
       "        vertical-align: top;\n",
       "    }\n",
       "\n",
       "    .dataframe thead th {\n",
       "        text-align: right;\n",
       "    }\n",
       "</style>\n",
       "<table border=\"1\" class=\"dataframe\">\n",
       "  <thead>\n",
       "    <tr style=\"text-align: right;\">\n",
       "      <th></th>\n",
       "      <th>productlabel</th>\n",
       "      <th>deliveryid</th>\n",
       "    </tr>\n",
       "  </thead>\n",
       "  <tbody>\n",
       "    <tr>\n",
       "      <th>0</th>\n",
       "      <td>Mathematics Book</td>\n",
       "      <td>None</td>\n",
       "    </tr>\n",
       "  </tbody>\n",
       "</table>\n",
       "</div>"
      ],
      "text/plain": [
       "       productlabel deliveryid\n",
       "0  Mathematics Book       None"
      ]
     },
     "execution_count": 20,
     "metadata": {},
     "output_type": "execute_result"
    }
   ],
   "source": [
    "# A tuple in the delivery whose ID is the same as that used in the Id delivery in order ligne  for the ‘wood chair’ and ‘Couh’.\n",
    "# The Id delivery for product ‘Mahematic book’ is still tonull.\n",
    "\n",
    "sqlio.read_sql_query(\"\"\"\n",
    "SELECT \n",
    "    p.Label AS ProductLabel,\n",
    "    ol.IdDel AS DeliveryId\n",
    "FROM \n",
    "    OrderLigne ol\n",
    "JOIN \n",
    "    Product p ON ol.BareCode = p.BareCode\n",
    "LEFT JOIN \n",
    "    Delivery d ON ol.IdDel = d.IdDel\n",
    "WHERE \n",
    "    (p.Label IN ('Wood Chair', 'Couch') AND ol.IdDel IS NOT NULL)\n",
    "    OR (p.Label = 'Mathematics Book' AND ol.IdDel IS NULL);\n",
    "\n",
    "\"\"\",conn).head()"
   ]
  },
  {
   "cell_type": "code",
   "execution_count": 21,
   "id": "53f150808ca3636e",
   "metadata": {
    "ExecuteTime": {
     "end_time": "2024-05-15T21:10:15.298927Z",
     "start_time": "2024-05-15T21:10:15.283212Z"
    }
   },
   "outputs": [
    {
     "data": {
      "text/html": [
       "<div>\n",
       "<style scoped>\n",
       "    .dataframe tbody tr th:only-of-type {\n",
       "        vertical-align: middle;\n",
       "    }\n",
       "\n",
       "    .dataframe tbody tr th {\n",
       "        vertical-align: top;\n",
       "    }\n",
       "\n",
       "    .dataframe thead th {\n",
       "        text-align: right;\n",
       "    }\n",
       "</style>\n",
       "<table border=\"1\" class=\"dataframe\">\n",
       "  <thead>\n",
       "    <tr style=\"text-align: right;\">\n",
       "      <th></th>\n",
       "      <th>barecode</th>\n",
       "      <th>label</th>\n",
       "      <th>old_stock</th>\n",
       "      <th>new_stock</th>\n",
       "    </tr>\n",
       "  </thead>\n",
       "  <tbody>\n",
       "    <tr>\n",
       "      <th>0</th>\n",
       "      <td>AAA001</td>\n",
       "      <td>Wood Chair</td>\n",
       "      <td>10</td>\n",
       "      <td>5</td>\n",
       "    </tr>\n",
       "    <tr>\n",
       "      <th>1</th>\n",
       "      <td>AAA002</td>\n",
       "      <td>Iron bed</td>\n",
       "      <td>5</td>\n",
       "      <td>5</td>\n",
       "    </tr>\n",
       "    <tr>\n",
       "      <th>2</th>\n",
       "      <td>AAA003</td>\n",
       "      <td>Mathematics Book</td>\n",
       "      <td>2</td>\n",
       "      <td>2</td>\n",
       "    </tr>\n",
       "    <tr>\n",
       "      <th>3</th>\n",
       "      <td>AAA004</td>\n",
       "      <td>Couch</td>\n",
       "      <td>2</td>\n",
       "      <td>1</td>\n",
       "    </tr>\n",
       "  </tbody>\n",
       "</table>\n",
       "</div>"
      ],
      "text/plain": [
       "  barecode             label  old_stock  new_stock\n",
       "0   AAA001        Wood Chair         10          5\n",
       "1   AAA002          Iron bed          5          5\n",
       "2   AAA003  Mathematics Book          2          2\n",
       "3   AAA004             Couch          2          1"
      ]
     },
     "execution_count": 21,
     "metadata": {},
     "output_type": "execute_result"
    }
   ],
   "source": [
    "# Stocks of these products also should decrease\n",
    "\n",
    "new_stock = sqlio.read_sql_query(\"\"\"\n",
    "SELECT barecode, label, stock as new_stock from Product\n",
    "\"\"\",conn)\n",
    "initial_stock.rename(columns={'stock': 'old_stock'}, inplace=True)\n",
    "pd.merge(initial_stock[['barecode', 'old_stock']], new_stock, on='barecode', how='outer')[['barecode', 'label', 'old_stock','new_stock']]"
   ]
  },
  {
   "cell_type": "markdown",
   "id": "966e9f3e80e7deba",
   "metadata": {},
   "source": [
    "#### 5.  Write a query to provision the stock of Mathematic book. Let’s say that we add to the stock 10."
   ]
  },
  {
   "cell_type": "code",
   "execution_count": 22,
   "id": "2c75bf477a42d52a",
   "metadata": {
    "ExecuteTime": {
     "end_time": "2024-05-15T21:10:15.306447Z",
     "start_time": "2024-05-15T21:10:15.299932Z"
    }
   },
   "outputs": [],
   "source": [
    "cursor.execute(\"\"\"\n",
    "UPDATE Product\n",
    "SET Stock = Stock + 10\n",
    "WHERE Label = 'Mathematics Book';\n",
    "\"\"\")"
   ]
  },
  {
   "cell_type": "code",
   "execution_count": 23,
   "id": "b58fca9f49802213",
   "metadata": {
    "ExecuteTime": {
     "end_time": "2024-05-15T21:10:15.317373Z",
     "start_time": "2024-05-15T21:10:15.307453Z"
    }
   },
   "outputs": [
    {
     "data": {
      "text/html": [
       "<div>\n",
       "<style scoped>\n",
       "    .dataframe tbody tr th:only-of-type {\n",
       "        vertical-align: middle;\n",
       "    }\n",
       "\n",
       "    .dataframe tbody tr th {\n",
       "        vertical-align: top;\n",
       "    }\n",
       "\n",
       "    .dataframe thead th {\n",
       "        text-align: right;\n",
       "    }\n",
       "</style>\n",
       "<table border=\"1\" class=\"dataframe\">\n",
       "  <thead>\n",
       "    <tr style=\"text-align: right;\">\n",
       "      <th></th>\n",
       "      <th>idord</th>\n",
       "      <th>statusord</th>\n",
       "    </tr>\n",
       "  </thead>\n",
       "  <tbody>\n",
       "    <tr>\n",
       "      <th>0</th>\n",
       "      <td>1</td>\n",
       "      <td>validate</td>\n",
       "    </tr>\n",
       "  </tbody>\n",
       "</table>\n",
       "</div>"
      ],
      "text/plain": [
       "   idord statusord\n",
       "0      1  validate"
      ]
     },
     "execution_count": 23,
     "metadata": {},
     "output_type": "execute_result"
    }
   ],
   "source": [
    "# Check your database content mainly if you have OrderStatus to Validate\n",
    "sqlio.read_sql_query(\"\"\"\n",
    "SELECT idord, statusord FROM OrderC\n",
    "\"\"\",conn).head()"
   ]
  }
 ],
 "metadata": {
  "kernelspec": {
   "display_name": "Python 3 (ipykernel)",
   "language": "python",
   "name": "python3"
  },
  "language_info": {
   "codemirror_mode": {
    "name": "ipython",
    "version": 3
   },
   "file_extension": ".py",
   "mimetype": "text/x-python",
   "name": "python",
   "nbconvert_exporter": "python",
   "pygments_lexer": "ipython3",
   "version": "3.11.9"
  }
 },
 "nbformat": 4,
 "nbformat_minor": 5
}
