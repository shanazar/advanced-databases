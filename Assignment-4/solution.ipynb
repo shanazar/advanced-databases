{
 "cells": [
  {
   "metadata": {},
   "cell_type": "markdown",
   "source": [
    "# Assignment #4 - automation\n",
    "## Advanced Databases\n",
    "### Kristjan Lõhmus, Rimmo Rõõm\n"
   ],
   "id": "92d3bbacd2f4a9a3"
  },
  {
   "metadata": {},
   "cell_type": "markdown",
   "source": [
    "### Preliminaries\n",
    "\n",
    "Install postgres connector and establish connection"
   ],
   "id": "a977c630ed91f147"
  },
  {
   "metadata": {
    "ExecuteTime": {
     "end_time": "2024-05-15T15:28:40.638076Z",
     "start_time": "2024-05-15T15:28:40.635094Z"
    }
   },
   "cell_type": "code",
   "source": [
    "import psycopg2\n",
    "import pandas.io.sql as sqlio\n",
    "import pandas as pd"
   ],
   "id": "caed2e38a194c421",
   "outputs": [],
   "execution_count": 22
  },
  {
   "metadata": {
    "ExecuteTime": {
     "end_time": "2024-05-15T15:28:40.801892Z",
     "start_time": "2024-05-15T15:28:40.739909Z"
    }
   },
   "cell_type": "code",
   "source": [
    "conn = psycopg2.connect(\n",
    "    host= 'localhost',\n",
    "    password = \"postgres\",\n",
    "    user = \"postgres\",\n",
    "    port = 5432,\n",
    "    )\n",
    "conn.autocommit = True\n",
    "cursor = conn.cursor()\n",
    "cursor.execute('CREATE OR REPLACE SCHEMA sales_info;')\n",
    "cursor.execute('set search_path = \"sales_info\";')"
   ],
   "id": "d69a865fdeb0ef23",
   "outputs": [],
   "execution_count": 23
  },
  {
   "metadata": {},
   "cell_type": "markdown",
   "source": [
    "### A. Constraints programming\n",
    "\n",
    "#### 1. Implement the structure of this system by creating the tables.\n",
    "![Schema to implement](screenshots/schema.png)"
   ],
   "id": "a064dbe64a840127"
  },
  {
   "metadata": {
    "ExecuteTime": {
     "end_time": "2024-05-15T15:28:40.910617Z",
     "start_time": "2024-05-15T15:28:40.802897Z"
    }
   },
   "cell_type": "code",
   "source": [
    "cursor.execute(\"\"\"\n",
    "CREATE TABLE Invoice (\n",
    "                         IdInv SERIAL PRIMARY KEY,\n",
    "                         DateInv DATE NOT NULL,\n",
    "                         DatePay DATE,\n",
    "                         ModePay VARCHAR(50) DEFAULT 'Card' CHECK (ModePay IN ('Check', 'Card', 'Cash')),\n",
    "                         Status VARCHAR(50) DEFAULT 'Not Paid' CHECK (Status IN ('Paid', 'Not Paid'))\n",
    ");\n",
    "\n",
    "-- Create Product table\n",
    "CREATE TABLE Product (\n",
    "                         BareCode VARCHAR(50) PRIMARY KEY,\n",
    "                         Label VARCHAR(100) NOT NULL,\n",
    "                         Category VARCHAR(50),\n",
    "                         Stock INT CHECK (Stock > 0)\n",
    ");\n",
    "\n",
    "-- Create Customer table\n",
    "CREATE TABLE Customer (\n",
    "                          IdCust SERIAL PRIMARY KEY,\n",
    "                          Name VARCHAR(100) NOT NULL,\n",
    "                          Phone VARCHAR(20) NOT NULL CHECK (Phone LIKE '00%')\n",
    ");\n",
    "\n",
    "-- Create OrderC table\n",
    "CREATE TABLE OrderC (\n",
    "                        IdOrd SERIAL PRIMARY KEY,\n",
    "                        DateOrd DATE NOT NULL,\n",
    "                        StatusOrd VARCHAR(50) DEFAULT 'Pending' CHECK (StatusOrd IN ('validate', 'Pending', 'Partial')),\n",
    "                        IdCust INT REFERENCES Customer(IdCust),\n",
    "                        IdInv INT REFERENCES Invoice(IdInv)\n",
    ");\n",
    "\n",
    "-- Create Delivery table\n",
    "CREATE TABLE Delivery (\n",
    "                          IdDel SERIAL PRIMARY KEY,\n",
    "                          DateExp DATE,\n",
    "                          DateDel DATE\n",
    ");\n",
    "\n",
    "-- Create OrderLigne table\n",
    "CREATE TABLE OrderLigne (\n",
    "                            IdOrLi SERIAL PRIMARY KEY,\n",
    "                            Quantity INT NOT NULL CHECK (Quantity > 0),\n",
    "                            StatusOrLig VARCHAR(50) DEFAULT 'Preparation' CHECK (StatusOrLig IN ('Preparation', 'prepared', 'Supply')),\n",
    "                            IdOrd INT REFERENCES OrderC(IdOrd),\n",
    "                            IdDel INT REFERENCES Delivery(IdDel) NULL,\n",
    "                            BareCode VARCHAR(50) REFERENCES Product(BareCode)\n",
    ");\n",
    "\"\"\")"
   ],
   "id": "6a589c3f1fe3870e",
   "outputs": [],
   "execution_count": 24
  },
  {
   "metadata": {},
   "cell_type": "markdown",
   "source": [
    "Resulting schema:\n",
    "\n",
    "![Implemented schema](screenshots/01.sales_info.png)"
   ],
   "id": "61b3cf07941050bf"
  },
  {
   "metadata": {},
   "cell_type": "markdown",
   "source": [
    "#### 2. Data insertion\n",
    "\n",
    "##### a. Let’s assume we have customer (‘Alice’,’002736014251’); and four Products (AAA001, ‘Wood Chair’, ‘House’, 10); (AAA002, ‘Iron bed’, ‘House’, 5); (AAA003, ‘Mathematics Book’, ‘Education’, 2); (AAA004, ‘Couch’, ‘House’, 2) in our system."
   ],
   "id": "df3d3a275282e3b2"
  },
  {
   "metadata": {
    "ExecuteTime": {
     "end_time": "2024-05-15T15:28:41.032874Z",
     "start_time": "2024-05-15T15:28:40.911622Z"
    }
   },
   "cell_type": "code",
   "source": [
    "cursor.execute(\"\"\"INSERT INTO customer(Name, Phone) values ('Alice','002736014251');\"\"\")\n",
    "sqlio.read_sql_query(\"SELECT * FROM customer\", conn).head()"
   ],
   "id": "be01ef0da8389300",
   "outputs": [
    {
     "name": "stderr",
     "output_type": "stream",
     "text": [
      "C:\\Users\\KristjanLõhmus\\AppData\\Local\\Temp\\ipykernel_32036\\1667529848.py:2: UserWarning: pandas only supports SQLAlchemy connectable (engine/connection) or database string URI or sqlite3 DBAPI2 connection. Other DBAPI2 objects are not tested. Please consider using SQLAlchemy.\n",
      "  sqlio.read_sql_query(\"SELECT * FROM customer\", conn).head()\n"
     ]
    },
    {
     "data": {
      "text/plain": [
       "   idcust   name         phone\n",
       "0       1  Alice  002736014251"
      ],
      "text/html": [
       "<div>\n",
       "<style scoped>\n",
       "    .dataframe tbody tr th:only-of-type {\n",
       "        vertical-align: middle;\n",
       "    }\n",
       "\n",
       "    .dataframe tbody tr th {\n",
       "        vertical-align: top;\n",
       "    }\n",
       "\n",
       "    .dataframe thead th {\n",
       "        text-align: right;\n",
       "    }\n",
       "</style>\n",
       "<table border=\"1\" class=\"dataframe\">\n",
       "  <thead>\n",
       "    <tr style=\"text-align: right;\">\n",
       "      <th></th>\n",
       "      <th>idcust</th>\n",
       "      <th>name</th>\n",
       "      <th>phone</th>\n",
       "    </tr>\n",
       "  </thead>\n",
       "  <tbody>\n",
       "    <tr>\n",
       "      <th>0</th>\n",
       "      <td>1</td>\n",
       "      <td>Alice</td>\n",
       "      <td>002736014251</td>\n",
       "    </tr>\n",
       "  </tbody>\n",
       "</table>\n",
       "</div>"
      ]
     },
     "execution_count": 25,
     "metadata": {},
     "output_type": "execute_result"
    }
   ],
   "execution_count": 25
  },
  {
   "metadata": {
    "ExecuteTime": {
     "end_time": "2024-05-15T15:28:41.051385Z",
     "start_time": "2024-05-15T15:28:41.034Z"
    }
   },
   "cell_type": "code",
   "source": [
    "cursor.execute(\"\"\"\n",
    "insert into product(BareCode, Label, Category, Stock) values\n",
    "('AAA001', 'Wood Chair', 'House', 10),\n",
    "('AAA002', 'Iron bed', 'House', 5),\n",
    "('AAA003', 'Mathematics Book', 'Education', 2),\n",
    "('AAA004', 'Couch', 'House', 2);\n",
    "\"\"\")\n",
    "initial_stock = sqlio.read_sql_query(\"SELECT * FROM product\", conn)\n",
    "initial_stock.head()"
   ],
   "id": "1c1a5b6f63fa8092",
   "outputs": [
    {
     "name": "stderr",
     "output_type": "stream",
     "text": [
      "C:\\Users\\KristjanLõhmus\\AppData\\Local\\Temp\\ipykernel_32036\\3296391333.py:8: UserWarning: pandas only supports SQLAlchemy connectable (engine/connection) or database string URI or sqlite3 DBAPI2 connection. Other DBAPI2 objects are not tested. Please consider using SQLAlchemy.\n",
      "  initial_stock = sqlio.read_sql_query(\"SELECT * FROM product\", conn)\n"
     ]
    },
    {
     "data": {
      "text/plain": [
       "  barecode             label   category  stock\n",
       "0   AAA001        Wood Chair      House     10\n",
       "1   AAA002          Iron bed      House      5\n",
       "2   AAA003  Mathematics Book  Education      2\n",
       "3   AAA004             Couch      House      2"
      ],
      "text/html": [
       "<div>\n",
       "<style scoped>\n",
       "    .dataframe tbody tr th:only-of-type {\n",
       "        vertical-align: middle;\n",
       "    }\n",
       "\n",
       "    .dataframe tbody tr th {\n",
       "        vertical-align: top;\n",
       "    }\n",
       "\n",
       "    .dataframe thead th {\n",
       "        text-align: right;\n",
       "    }\n",
       "</style>\n",
       "<table border=\"1\" class=\"dataframe\">\n",
       "  <thead>\n",
       "    <tr style=\"text-align: right;\">\n",
       "      <th></th>\n",
       "      <th>barecode</th>\n",
       "      <th>label</th>\n",
       "      <th>category</th>\n",
       "      <th>stock</th>\n",
       "    </tr>\n",
       "  </thead>\n",
       "  <tbody>\n",
       "    <tr>\n",
       "      <th>0</th>\n",
       "      <td>AAA001</td>\n",
       "      <td>Wood Chair</td>\n",
       "      <td>House</td>\n",
       "      <td>10</td>\n",
       "    </tr>\n",
       "    <tr>\n",
       "      <th>1</th>\n",
       "      <td>AAA002</td>\n",
       "      <td>Iron bed</td>\n",
       "      <td>House</td>\n",
       "      <td>5</td>\n",
       "    </tr>\n",
       "    <tr>\n",
       "      <th>2</th>\n",
       "      <td>AAA003</td>\n",
       "      <td>Mathematics Book</td>\n",
       "      <td>Education</td>\n",
       "      <td>2</td>\n",
       "    </tr>\n",
       "    <tr>\n",
       "      <th>3</th>\n",
       "      <td>AAA004</td>\n",
       "      <td>Couch</td>\n",
       "      <td>House</td>\n",
       "      <td>2</td>\n",
       "    </tr>\n",
       "  </tbody>\n",
       "</table>\n",
       "</div>"
      ]
     },
     "execution_count": 26,
     "metadata": {},
     "output_type": "execute_result"
    }
   ],
   "execution_count": 26
  },
  {
   "metadata": {},
   "cell_type": "markdown",
   "source": "##### b. Customer Alice order by phone three products concerning (Wood chair, 5); (Mathematics Book’, 4); (Couch, 1). Her primarily choice was to pay by card but unfortunately the payment was rejected so she said she will make the payment by cash after some days.\n",
   "id": "f6a8df101537a813"
  },
  {
   "metadata": {
    "ExecuteTime": {
     "end_time": "2024-05-15T15:28:41.072214Z",
     "start_time": "2024-05-15T15:28:41.051893Z"
    }
   },
   "cell_type": "code",
   "source": [
    "cursor.execute(\"\"\"\n",
    "-- Insert into Invoice table\n",
    "INSERT INTO Invoice (DateInv, ModePay, Status) VALUES\n",
    "    (CURRENT_DATE, 'Card', 'Not Paid');\n",
    "\n",
    "-- Assuming IdCust = 1 and IdInv = 1\n",
    "-- Insert into OrderC table\n",
    "INSERT INTO OrderC (DateOrd, StatusOrd, IdCust, IdInv) VALUES\n",
    "    (CURRENT_DATE, 'Pending', 1, 1);\n",
    "\n",
    "-- Assuming IdOrd = 1\n",
    "-- Insert into OrderLigne table\n",
    "INSERT INTO OrderLigne (Quantity, StatusOrLig, IdOrd, BareCode) VALUES\n",
    "                                                                    (5, 'Preparation', 1, 'AAA001'),  -- Wood Chair\n",
    "                                                                    (4, 'Preparation', 1, 'AAA003'),  -- Mathematics Book\n",
    "                                                                    (1, 'Preparation', 1, 'AAA004');  -- Couch\n",
    "\n",
    "-- Update the Invoice for payment by cash\n",
    "UPDATE Invoice\n",
    "SET ModePay = 'Cash'\n",
    "WHERE IdInv = 1;\n",
    "\"\"\"\n",
    ")"
   ],
   "id": "495d300b9cfa584e",
   "outputs": [],
   "execution_count": 27
  },
  {
   "metadata": {
    "ExecuteTime": {
     "end_time": "2024-05-15T15:28:41.091196Z",
     "start_time": "2024-05-15T15:28:41.073222Z"
    }
   },
   "cell_type": "code",
   "source": [
    "sqlio.read_sql_query(\"\"\"\n",
    "SELECT \n",
    "    c.Name AS CustomerName,\n",
    "    c.Phone AS CustomerPhone,\n",
    "    o.DateOrd AS OrderDate,\n",
    "    o.StatusOrd AS OrderStatus,\n",
    "    i.DateInv AS InvoiceDate,\n",
    "    i.DatePay AS PaymentDate,\n",
    "    i.ModePay AS PaymentMode,\n",
    "    i.Status AS PaymentStatus,\n",
    "    ol.Quantity AS ProductQuantity,\n",
    "    ol.StatusOrLig AS OrderLineStatus,\n",
    "    p.BareCode AS ProductCode,\n",
    "    p.Label AS ProductLabel,\n",
    "    p.Category AS ProductCategory\n",
    "FROM \n",
    "    Customer c\n",
    "JOIN \n",
    "    OrderC o ON c.IdCust = o.IdCust\n",
    "JOIN \n",
    "    Invoice i ON o.IdInv = i.IdInv\n",
    "JOIN \n",
    "    OrderLigne ol ON o.IdOrd = ol.IdOrd\n",
    "JOIN \n",
    "    Product p ON ol.BareCode = p.BareCode\n",
    "WHERE \n",
    "    c.Name = 'Alice' \n",
    "    AND c.Phone = '002736014251';\n",
    "\n",
    "\"\"\", conn).head()"
   ],
   "id": "330bac004566e293",
   "outputs": [
    {
     "name": "stderr",
     "output_type": "stream",
     "text": [
      "C:\\Users\\KristjanLõhmus\\AppData\\Local\\Temp\\ipykernel_32036\\4164947445.py:1: UserWarning: pandas only supports SQLAlchemy connectable (engine/connection) or database string URI or sqlite3 DBAPI2 connection. Other DBAPI2 objects are not tested. Please consider using SQLAlchemy.\n",
      "  sqlio.read_sql_query(\"\"\"\n"
     ]
    },
    {
     "data": {
      "text/plain": [
       "  customername customerphone   orderdate orderstatus invoicedate paymentdate  \\\n",
       "0        Alice  002736014251  2024-05-15     Pending  2024-05-15        None   \n",
       "1        Alice  002736014251  2024-05-15     Pending  2024-05-15        None   \n",
       "2        Alice  002736014251  2024-05-15     Pending  2024-05-15        None   \n",
       "\n",
       "  paymentmode paymentstatus  productquantity orderlinestatus productcode  \\\n",
       "0        Cash      Not Paid                5     Preparation      AAA001   \n",
       "1        Cash      Not Paid                4     Preparation      AAA003   \n",
       "2        Cash      Not Paid                1     Preparation      AAA004   \n",
       "\n",
       "       productlabel productcategory  \n",
       "0        Wood Chair           House  \n",
       "1  Mathematics Book       Education  \n",
       "2             Couch           House  "
      ],
      "text/html": [
       "<div>\n",
       "<style scoped>\n",
       "    .dataframe tbody tr th:only-of-type {\n",
       "        vertical-align: middle;\n",
       "    }\n",
       "\n",
       "    .dataframe tbody tr th {\n",
       "        vertical-align: top;\n",
       "    }\n",
       "\n",
       "    .dataframe thead th {\n",
       "        text-align: right;\n",
       "    }\n",
       "</style>\n",
       "<table border=\"1\" class=\"dataframe\">\n",
       "  <thead>\n",
       "    <tr style=\"text-align: right;\">\n",
       "      <th></th>\n",
       "      <th>customername</th>\n",
       "      <th>customerphone</th>\n",
       "      <th>orderdate</th>\n",
       "      <th>orderstatus</th>\n",
       "      <th>invoicedate</th>\n",
       "      <th>paymentdate</th>\n",
       "      <th>paymentmode</th>\n",
       "      <th>paymentstatus</th>\n",
       "      <th>productquantity</th>\n",
       "      <th>orderlinestatus</th>\n",
       "      <th>productcode</th>\n",
       "      <th>productlabel</th>\n",
       "      <th>productcategory</th>\n",
       "    </tr>\n",
       "  </thead>\n",
       "  <tbody>\n",
       "    <tr>\n",
       "      <th>0</th>\n",
       "      <td>Alice</td>\n",
       "      <td>002736014251</td>\n",
       "      <td>2024-05-15</td>\n",
       "      <td>Pending</td>\n",
       "      <td>2024-05-15</td>\n",
       "      <td>None</td>\n",
       "      <td>Cash</td>\n",
       "      <td>Not Paid</td>\n",
       "      <td>5</td>\n",
       "      <td>Preparation</td>\n",
       "      <td>AAA001</td>\n",
       "      <td>Wood Chair</td>\n",
       "      <td>House</td>\n",
       "    </tr>\n",
       "    <tr>\n",
       "      <th>1</th>\n",
       "      <td>Alice</td>\n",
       "      <td>002736014251</td>\n",
       "      <td>2024-05-15</td>\n",
       "      <td>Pending</td>\n",
       "      <td>2024-05-15</td>\n",
       "      <td>None</td>\n",
       "      <td>Cash</td>\n",
       "      <td>Not Paid</td>\n",
       "      <td>4</td>\n",
       "      <td>Preparation</td>\n",
       "      <td>AAA003</td>\n",
       "      <td>Mathematics Book</td>\n",
       "      <td>Education</td>\n",
       "    </tr>\n",
       "    <tr>\n",
       "      <th>2</th>\n",
       "      <td>Alice</td>\n",
       "      <td>002736014251</td>\n",
       "      <td>2024-05-15</td>\n",
       "      <td>Pending</td>\n",
       "      <td>2024-05-15</td>\n",
       "      <td>None</td>\n",
       "      <td>Cash</td>\n",
       "      <td>Not Paid</td>\n",
       "      <td>1</td>\n",
       "      <td>Preparation</td>\n",
       "      <td>AAA004</td>\n",
       "      <td>Couch</td>\n",
       "      <td>House</td>\n",
       "    </tr>\n",
       "  </tbody>\n",
       "</table>\n",
       "</div>"
      ]
     },
     "execution_count": 28,
     "metadata": {},
     "output_type": "execute_result"
    }
   ],
   "execution_count": 28
  },
  {
   "metadata": {},
   "cell_type": "markdown",
   "source": [
    "### B. Automation\n",
    "\n",
    "#### 1. Implement date field auto-insertion for:\n"
   ],
   "id": "66c12d6961594a56"
  },
  {
   "metadata": {
    "ExecuteTime": {
     "end_time": "2024-05-15T15:28:41.100910Z",
     "start_time": "2024-05-15T15:28:41.092231Z"
    }
   },
   "cell_type": "code",
   "source": [
    "# DateInv\n",
    "cursor.execute(\"\"\"\n",
    "ALTER TABLE Invoice\n",
    "ALTER COLUMN DateInv SET DEFAULT CURRENT_DATE;\n",
    "\"\"\")"
   ],
   "id": "3474d0fb8cd5f7fb",
   "outputs": [],
   "execution_count": 29
  },
  {
   "metadata": {
    "ExecuteTime": {
     "end_time": "2024-05-15T15:28:41.110042Z",
     "start_time": "2024-05-15T15:28:41.102062Z"
    }
   },
   "cell_type": "code",
   "source": [
    "# OrderC\n",
    "cursor.execute(\"\"\"\n",
    "ALTER TABLE OrderC\n",
    "ALTER COLUMN DateOrd SET DEFAULT CURRENT_DATE;\n",
    "\"\"\")"
   ],
   "id": "35f6153406d2f799",
   "outputs": [],
   "execution_count": 30
  },
  {
   "metadata": {
    "ExecuteTime": {
     "end_time": "2024-05-15T15:28:41.118485Z",
     "start_time": "2024-05-15T15:28:41.111048Z"
    }
   },
   "cell_type": "code",
   "source": [
    "# DateExp \n",
    "cursor.execute(\"\"\"\n",
    "ALTER TABLE Delivery\n",
    "ALTER COLUMN DateExp SET DEFAULT CURRENT_DATE;\n",
    "\"\"\")"
   ],
   "id": "98e6768ebb38cb4c",
   "outputs": [],
   "execution_count": 31
  },
  {
   "metadata": {
    "ExecuteTime": {
     "end_time": "2024-05-15T15:28:41.132115Z",
     "start_time": "2024-05-15T15:28:41.121925Z"
    }
   },
   "cell_type": "code",
   "source": [
    "# DatePay \n",
    "cursor.execute(\"\"\"\n",
    "CREATE OR REPLACE FUNCTION update_datepay()\n",
    "RETURNS TRIGGER AS $$\n",
    "BEGIN\n",
    "    IF NEW.Status = 'Paid' AND OLD.Status <> 'Paid' THEN\n",
    "        NEW.DatePay = CURRENT_DATE;\n",
    "    END IF;\n",
    "    RETURN NEW;\n",
    "END;\n",
    "$$ LANGUAGE plpgsql;\n",
    "\n",
    "-- Create the trigger for the Invoice table\n",
    "CREATE TRIGGER set_datepay\n",
    "BEFORE UPDATE ON Invoice\n",
    "FOR EACH ROW\n",
    "EXECUTE FUNCTION update_datepay();\n",
    "\"\"\")"
   ],
   "id": "88b2b11a74b7fe9e",
   "outputs": [],
   "execution_count": 32
  },
  {
   "metadata": {},
   "cell_type": "markdown",
   "source": [
    "#### 2. Analyze the automation that start when the Invoice status passes to Paid and implement them using triggers. Remember that you have the ability to control the timing of trigger firing. Below is one possible automation schema:\n",
    "\n",
    "![Task b_02](screenshots/b_02.png)"
   ],
   "id": "9419e82ccf7eb779"
  },
  {
   "metadata": {
    "ExecuteTime": {
     "end_time": "2024-05-15T15:53:15.237224Z",
     "start_time": "2024-05-15T15:53:15.218915Z"
    }
   },
   "cell_type": "code",
   "source": [
    "# First let's create one for the scenario where an order gets paid\n",
    "cursor.execute(\"\"\"\n",
    "CREATE OR REPLACE FUNCTION update_orderligne_status()\n",
    "RETURNS TRIGGER AS $$\n",
    "DECLARE\n",
    "    order_line RECORD;\n",
    "    product RECORD;\n",
    "BEGIN\n",
    "    -- Loop through each order associated with the invoice\n",
    "    FOR order_line IN \n",
    "        SELECT * FROM OrderLigne \n",
    "        WHERE IdOrd IN (SELECT IdOrd FROM OrderC WHERE IdInv = NEW.IdInv)\n",
    "    LOOP\n",
    "        -- Fetch product details\n",
    "        SELECT * INTO product FROM Product WHERE BareCode = order_line.BareCode;\n",
    "\n",
    "        IF product.Stock >= order_line.Quantity THEN\n",
    "            -- Enough stock\n",
    "            UPDATE Stock\n",
    "            SET StatusOrLig = 'prepared'\n",
    "            WHERE IdOrLi = order_line.IdOrLi;\n",
    "            \n",
    "            UPDATE Product\n",
    "            SET stock = stock - order_line.Quantity\n",
    "            WHERE barecode = order_line.barecode;\n",
    "        ELSE\n",
    "            -- Not enough stock\n",
    "            UPDATE Product\n",
    "            SET StatusOrLig = 'supply'\n",
    "            WHERE IdOrLi = order_line.IdOrLi;\n",
    "        END IF;\n",
    "    END LOOP;\n",
    "    RETURN NEW;\n",
    "END;\n",
    "$$ LANGUAGE plpgsql;\n",
    "\n",
    "CREATE OR REPLACE TRIGGER trigger_update_orderligne_status\n",
    "AFTER UPDATE OF Status ON Invoice\n",
    "FOR EACH ROW\n",
    "WHEN (NEW.Status = 'Paid')\n",
    "EXECUTE FUNCTION update_orderligne_status();\n",
    "\n",
    "\"\"\")"
   ],
   "id": "97d9e23fa21b6ee4",
   "outputs": [],
   "execution_count": 45
  },
  {
   "metadata": {
    "ExecuteTime": {
     "end_time": "2024-05-15T15:29:37.142527Z",
     "start_time": "2024-05-15T15:29:37.125670Z"
    }
   },
   "cell_type": "code",
   "source": [
    "cursor.execute(\"\"\"\n",
    "CREATE OR REPLACE FUNCTION update_delivery_details()\n",
    "RETURNS TRIGGER AS $$\n",
    "DECLARE\n",
    "    delivery_id INT;\n",
    "BEGIN\n",
    "    -- Create a new delivery entry\n",
    "    INSERT INTO Delivery (DateExp) VALUES (CURRENT_DATE) RETURNING IdDel INTO delivery_id;\n",
    "    -- Update delivery ID for order lines with sufficient stock\n",
    "    UPDATE OrderLigne\n",
    "    SET IdDel = delivery_id\n",
    "    WHERE StatusOrLig = 'Sale done'\n",
    "    AND IdOrd IN (SELECT IdOrd FROM OrderC WHERE IdInv = NEW.IdInv);\n",
    "    RETURN NEW;\n",
    "END;\n",
    "$$ LANGUAGE plpgsql;\n",
    "\n",
    "CREATE TRIGGER trigger_update_delivery_details\n",
    "AFTER UPDATE OF StatusOrlig ON OrderLigne\n",
    "FOR EACH ROW\n",
    "WHEN (NEW.Status = 'Sale done')\n",
    "EXECUTE FUNCTION update_delivery_details();\n",
    "\n",
    "\"\"\")"
   ],
   "id": "3880e00f4d99c9ac",
   "outputs": [],
   "execution_count": 35
  },
  {
   "metadata": {
    "ExecuteTime": {
     "end_time": "2024-05-15T15:29:59.514445Z",
     "start_time": "2024-05-15T15:29:59.505449Z"
    }
   },
   "cell_type": "code",
   "source": [
    "cursor.execute(\"\"\"\n",
    "CREATE OR REPLACE FUNCTION update_orderc_status()\n",
    "RETURNS TRIGGER AS $$\n",
    "DECLARE\n",
    "    order_id RECORD;\n",
    "BEGIN\n",
    "    IF NEW.Status = 'Paid' THEN\n",
    "        -- Update order status to 'Validate'\n",
    "        UPDATE OrderC\n",
    "        SET StatusOrd = 'Validate'\n",
    "        WHERE IdInv = NEW.IdInv;\n",
    "\n",
    "        -- Further update based on order line statuses\n",
    "        FOR order_id IN \n",
    "            SELECT IdOrd FROM OrderC WHERE IdInv = NEW.IdInv\n",
    "        LOOP\n",
    "            IF EXISTS (SELECT 1 FROM OrderLigne WHERE IdOrd = order_id AND StatusOrLig = 'Pending for supply') THEN\n",
    "                UPDATE OrderC\n",
    "                SET StatusOrd = 'Partial'\n",
    "                WHERE IdOrd = order_id;\n",
    "            ELSE\n",
    "                UPDATE OrderC\n",
    "                SET StatusOrd = 'Shipped'\n",
    "                WHERE IdOrd = order_id;\n",
    "            END IF;\n",
    "        END LOOP;\n",
    "    END IF;\n",
    "    RETURN NEW;\n",
    "END;\n",
    "$$ LANGUAGE plpgsql;\n",
    "\n",
    "\n",
    "CREATE TRIGGER trigger_update_orderc_status\n",
    "AFTER UPDATE OF Status ON Invoice\n",
    "FOR EACH ROW\n",
    "WHEN (NEW.Status = 'Paid')\n",
    "EXECUTE FUNCTION update_orderc_status();\n",
    "\"\"\")"
   ],
   "id": "178cd76bcfde32d0",
   "outputs": [],
   "execution_count": 38
  },
  {
   "metadata": {
    "ExecuteTime": {
     "end_time": "2024-05-15T15:30:02.812627Z",
     "start_time": "2024-05-15T15:30:02.804492Z"
    }
   },
   "cell_type": "code",
   "source": [
    "cursor.execute(\"\"\"\n",
    "CREATE OR REPLACE FUNCTION update_order_line_status()\n",
    "RETURNS TRIGGER AS $$\n",
    "DECLARE\n",
    "    order_line_id RECORD;\n",
    "BEGIN\n",
    "    -- Log a message for order lines with insufficient stock\n",
    "        FOR order_line_id IN \n",
    "            SELECT IdOrLi FROM OrderLigne WHERE barecode = NEW.barecode AND statusOrLig = 'supply'\n",
    "            IF \n",
    "        LOOP\n",
    "        END LOOP;\n",
    "    RETURN NEW;\n",
    "END;\n",
    "$$ LANGUAGE plpgsql;\n",
    "\n",
    "CREATE TRIGGER trigger_log_supply_chain_messages\n",
    "AFTER UPDATE OF Stock ON Product\n",
    "FOR EACH ROW\n",
    "WHEN (NEW.Stock > OLD.Stock)\n",
    "EXECUTE FUNCTION update_order_line_status();\n",
    "\"\"\")"
   ],
   "id": "e29c209a7917baba",
   "outputs": [],
   "execution_count": 39
  },
  {
   "metadata": {},
   "cell_type": "markdown",
   "source": "#### 3. Let’s assume now that Alice is ready for cash payment. Write an update query to set Invoice status and the mode of payment. ",
   "id": "1e915b5ac1b494f5"
  },
  {
   "metadata": {
    "ExecuteTime": {
     "end_time": "2024-05-15T15:30:05.573424Z",
     "start_time": "2024-05-15T15:30:05.557428Z"
    }
   },
   "cell_type": "code",
   "source": [
    "cursor.execute(\"\"\"\n",
    "UPDATE Invoice\n",
    "SET ModePay = 'Cash', Status = 'Paid'\n",
    "WHERE IdInv IN (\n",
    "    SELECT o.IdInv\n",
    "    FROM OrderC o\n",
    "    JOIN Customer c ON o.IdCust = c.IdCust\n",
    "    WHERE c.Name = 'Alice' AND c.Phone = '002736014251'\n",
    ");\n",
    "\"\"\")"
   ],
   "id": "3b63ad6eb73d5d3d",
   "outputs": [
    {
     "ename": "UndefinedTable",
     "evalue": "relation \"supplychainmessages\" does not exist\nLINE 1: INSERT INTO SupplyChainMessages (OrderLineId, Message)\n                    ^\nQUERY:  INSERT INTO SupplyChainMessages (OrderLineId, Message)\n        SELECT IdOrLi, 'Stock not enough, pending for supply'\n        FROM OrderLigne\n        WHERE StatusOrLig = 'Pending for supply'\n        AND IdOrd IN (SELECT IdOrd FROM OrderC WHERE IdInv = NEW.IdInv)\nCONTEXT:  PL/pgSQL function log_supply_chain_messages() line 5 at SQL statement\n",
     "output_type": "error",
     "traceback": [
      "\u001B[1;31m---------------------------------------------------------------------------\u001B[0m",
      "\u001B[1;31mUndefinedTable\u001B[0m                            Traceback (most recent call last)",
      "Cell \u001B[1;32mIn[40], line 1\u001B[0m\n\u001B[1;32m----> 1\u001B[0m \u001B[43mcursor\u001B[49m\u001B[38;5;241;43m.\u001B[39;49m\u001B[43mexecute\u001B[49m\u001B[43m(\u001B[49m\u001B[38;5;124;43m\"\"\"\u001B[39;49m\n\u001B[0;32m      2\u001B[0m \u001B[38;5;124;43mUPDATE Invoice\u001B[39;49m\n\u001B[0;32m      3\u001B[0m \u001B[38;5;124;43mSET ModePay = \u001B[39;49m\u001B[38;5;124;43m'\u001B[39;49m\u001B[38;5;124;43mCash\u001B[39;49m\u001B[38;5;124;43m'\u001B[39;49m\u001B[38;5;124;43m, Status = \u001B[39;49m\u001B[38;5;124;43m'\u001B[39;49m\u001B[38;5;124;43mPaid\u001B[39;49m\u001B[38;5;124;43m'\u001B[39;49m\n\u001B[0;32m      4\u001B[0m \u001B[38;5;124;43mWHERE IdInv IN (\u001B[39;49m\n\u001B[0;32m      5\u001B[0m \u001B[38;5;124;43m    SELECT o.IdInv\u001B[39;49m\n\u001B[0;32m      6\u001B[0m \u001B[38;5;124;43m    FROM OrderC o\u001B[39;49m\n\u001B[0;32m      7\u001B[0m \u001B[38;5;124;43m    JOIN Customer c ON o.IdCust = c.IdCust\u001B[39;49m\n\u001B[0;32m      8\u001B[0m \u001B[38;5;124;43m    WHERE c.Name = \u001B[39;49m\u001B[38;5;124;43m'\u001B[39;49m\u001B[38;5;124;43mAlice\u001B[39;49m\u001B[38;5;124;43m'\u001B[39;49m\u001B[38;5;124;43m AND c.Phone = \u001B[39;49m\u001B[38;5;124;43m'\u001B[39;49m\u001B[38;5;124;43m002736014251\u001B[39;49m\u001B[38;5;124;43m'\u001B[39;49m\n\u001B[0;32m      9\u001B[0m \u001B[38;5;124;43m);\u001B[39;49m\n\u001B[0;32m     10\u001B[0m \u001B[38;5;124;43m\"\"\"\u001B[39;49m\u001B[43m)\u001B[49m\n",
      "\u001B[1;31mUndefinedTable\u001B[0m: relation \"supplychainmessages\" does not exist\nLINE 1: INSERT INTO SupplyChainMessages (OrderLineId, Message)\n                    ^\nQUERY:  INSERT INTO SupplyChainMessages (OrderLineId, Message)\n        SELECT IdOrLi, 'Stock not enough, pending for supply'\n        FROM OrderLigne\n        WHERE StatusOrLig = 'Pending for supply'\n        AND IdOrd IN (SELECT IdOrd FROM OrderC WHERE IdInv = NEW.IdInv)\nCONTEXT:  PL/pgSQL function log_supply_chain_messages() line 5 at SQL statement\n"
     ]
    }
   ],
   "execution_count": 40
  },
  {
   "metadata": {},
   "cell_type": "markdown",
   "source": "#### 4. If everything performs exactly, then:",
   "id": "431dc018d4c16384"
  },
  {
   "metadata": {},
   "cell_type": "code",
   "source": [
    "# OrderStatus to partial\n",
    "\n",
    "sqlio.read_sql_query(\"\"\"\n",
    "SELECT idord, statusord FROM OrderC\n",
    "\"\"\",conn).head()"
   ],
   "id": "180b8e46c87520bf",
   "outputs": [],
   "execution_count": null
  },
  {
   "metadata": {},
   "cell_type": "code",
   "source": [
    "# Order ligne status for Wood chair to prepared\n",
    "\n",
    "sqlio.read_sql_query(\"\"\"\n",
    "SELECT statusorlig FROM OrderLigne ol left join Product p on ol.bareCode = p.BareCode\n",
    "WHERE p.label = 'Wood Chair'\n",
    "\"\"\",conn).head()"
   ],
   "id": "b140666078e7f23a",
   "outputs": [],
   "execution_count": null
  },
  {
   "metadata": {},
   "cell_type": "code",
   "source": [
    "# Order ligne status for Couch to prepared\n",
    "\n",
    "sqlio.read_sql_query(\"\"\"\n",
    "SELECT statusorlig FROM OrderLigne ol left join Product p on ol.bareCode = p.BareCode\n",
    "WHERE p.label = 'Couch'\n",
    "\"\"\",conn).head()"
   ],
   "id": "13ae7575e4784442",
   "outputs": [],
   "execution_count": null
  },
  {
   "metadata": {},
   "cell_type": "code",
   "source": [
    "# Order ligne status for Mathematics Book to Supply\n",
    "\n",
    "sqlio.read_sql_query(\"\"\"\n",
    "SELECT statusorlig FROM OrderLigne ol left join Product p on ol.bareCode = p.BareCode\n",
    "WHERE p.label = 'Mathematics Book'\n",
    "\"\"\",conn).head()"
   ],
   "id": "7255f625ef43ffef",
   "outputs": [],
   "execution_count": null
  },
  {
   "metadata": {},
   "cell_type": "code",
   "source": [
    "# A tuple in the delivery whose ID is the same as that used in the Id delivery in order ligne  for the ‘wood chair’ and ‘Couh’.\n",
    "# The Id delivery for product ‘Mahematic book’ is still tonull.\n",
    "\n",
    "sqlio.read_sql_query(\"\"\"\n",
    "SELECT \n",
    "    p.Label AS ProductLabel,\n",
    "    ol.IdDel AS DeliveryId\n",
    "FROM \n",
    "    OrderLigne ol\n",
    "JOIN \n",
    "    Product p ON ol.BareCode = p.BareCode\n",
    "LEFT JOIN \n",
    "    Delivery d ON ol.IdDel = d.IdDel\n",
    "WHERE \n",
    "    (p.Label IN ('Wood Chair', 'Couch') AND ol.IdDel IS NOT NULL)\n",
    "    OR (p.Label = 'Mathematics Book' AND ol.IdDel IS NULL);\n",
    "\n",
    "\"\"\",conn).head()"
   ],
   "id": "c6bf64a2be7ea86f",
   "outputs": [],
   "execution_count": null
  },
  {
   "metadata": {},
   "cell_type": "code",
   "source": [
    "# Stocks of these products also should decrease\n",
    "\n",
    "new_stock = sqlio.read_sql_query(\"\"\"\n",
    "SELECT barecode, label, stock as new_stock from Product\n",
    "\"\"\",conn)\n",
    "initial_stock.rename(columns={'stock': 'old_stock'}, inplace=True)\n",
    "pd.merge(initial_stock[['barecode', 'old_stock']], new_stock, on='barecode', how='outer')[['barecode', 'label', 'old_stock','new_stock']]"
   ],
   "id": "53f150808ca3636e",
   "outputs": [],
   "execution_count": null
  },
  {
   "metadata": {},
   "cell_type": "markdown",
   "source": "#### 5.  Write a query to provision the stock of Mathematic book. Let’s say that we add to the stock 10.",
   "id": "966e9f3e80e7deba"
  },
  {
   "metadata": {},
   "cell_type": "code",
   "source": [
    "cursor.execute(\"\"\"\n",
    "UPDATE Product\n",
    "SET Stock = Stock + 10\n",
    "WHERE Label = 'Mathematics Book';\n",
    "\"\"\")"
   ],
   "id": "2c75bf477a42d52a",
   "outputs": [],
   "execution_count": null
  },
  {
   "metadata": {},
   "cell_type": "code",
   "source": [
    "# Check your database content mainly if you have OrderStatus to Validate\n",
    "sqlio.read_sql_query(\"\"\"\n",
    "SELECT idord, statusord FROM OrderC\n",
    "\"\"\",conn).head()"
   ],
   "id": "b58fca9f49802213",
   "outputs": [],
   "execution_count": null
  }
 ],
 "metadata": {
  "kernelspec": {
   "display_name": "Python 3",
   "language": "python",
   "name": "python3"
  },
  "language_info": {
   "codemirror_mode": {
    "name": "ipython",
    "version": 2
   },
   "file_extension": ".py",
   "mimetype": "text/x-python",
   "name": "python",
   "nbconvert_exporter": "python",
   "pygments_lexer": "ipython2",
   "version": "2.7.6"
  }
 },
 "nbformat": 4,
 "nbformat_minor": 5
}
