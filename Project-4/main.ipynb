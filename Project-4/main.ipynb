{
 "cells": [
  {
   "metadata": {},
   "cell_type": "markdown",
   "source": "# Project #4",
   "id": "f712487b6b63429f"
  },
  {
   "metadata": {},
   "cell_type": "markdown",
   "source": "## Kristjan Lõhmus, Rimmo Rõõm",
   "id": "879b98a8593c6896"
  },
  {
   "metadata": {},
   "cell_type": "markdown",
   "source": [
    "Description: \\\n",
    "We desire to build a system to manage the internship locations for the Professional training center. For\n",
    "this purpose, in mind, we host the discussion with the management committee to look for their\n",
    "specifications. The resumes from this meeting are:\n",
    "* A city is located a specific region (or state, for example, for federal countries like the USA), country\n",
    "and continent. By this way, a city can be identified by the triplet (e.g. Tartu linn, Estonia, Europe).\n",
    "According to their explanation, a city is associated with a single region, a single country and a\n",
    "single continent. These three pieces of data are mandatory for each city in the db.\n",
    "* An organization (for example a large company, a university or a research center) is structured into\n",
    "services (which may have as name of service the words department, division, laboratory, etc.). A\n",
    "service is characterized by an address, which is the city in which the service is located.\n",
    "* The student’s supervisors or service employees are characterized by their names and contact\n",
    "details and a list of keywords which define their sector of activity, and linked to the service in\n",
    "which they work."
   ],
   "id": "1dbbf74b05f9c4bf"
  },
  {
   "metadata": {},
   "cell_type": "markdown",
   "source": "## Task 1. Modelling",
   "id": "5d93fa20a83cdc48"
  },
  {
   "metadata": {},
   "cell_type": "markdown",
   "source": [
    "### 1. CDM model\n",
    "Here's a high level CDM that I would present to some C-level management: \\\n",
    "![High-level CDM model](./img/high_level_cdm_model.jpg)\n",
    "\n",
    "And here's the low-level one that I would present to more technical people: \\\n",
    "![Low-level CDM model](./img/low_level_cdm_model.jpg)\n"
   ],
   "id": "f5aecae36be5f02a"
  },
  {
   "metadata": {},
   "cell_type": "markdown",
   "source": [
    "### 2. RDM\n",
    "\n",
    "The RDM is pretty much the same as the low-level CDM with foreign keys added (Service has Address added as an extra field)."
   ],
   "id": "d28340f1829b8799"
  },
  {
   "metadata": {},
   "cell_type": "markdown",
   "source": [
    "### 3. Document Data model\n",
    "\n",
    "#TODO"
   ],
   "id": "d75d7a999eb96ef4"
  },
  {
   "metadata": {},
   "cell_type": "markdown",
   "source": "## 2. Implementation",
   "id": "1f5043546576071f"
  },
  {
   "metadata": {},
   "cell_type": "markdown",
   "source": "### 1. Implement each structure on a native data engine",
   "id": "8827531fc72398fa"
  },
  {
   "metadata": {},
   "cell_type": "markdown",
   "source": "#### PostgreSQL",
   "id": "5de527e96e97b00d"
  },
  {
   "metadata": {
    "ExecuteTime": {
     "end_time": "2024-06-03T19:08:16.321076Z",
     "start_time": "2024-06-03T19:08:16.317239Z"
    }
   },
   "cell_type": "code",
   "source": [
    "import psycopg2\n",
    "import pandas.io.sql as sqlio\n",
    "import pandas as pd\n",
    "import warnings\n",
    "import time\n",
    "warnings.filterwarnings('ignore')"
   ],
   "id": "initial_id",
   "outputs": [],
   "execution_count": 20
  },
  {
   "metadata": {
    "ExecuteTime": {
     "end_time": "2024-06-03T19:01:22.850251Z",
     "start_time": "2024-06-03T19:01:22.802172Z"
    }
   },
   "cell_type": "code",
   "source": [
    "conn = psycopg2.connect(\n",
    "    host= 'localhost',\n",
    "    password = \"postgres\",\n",
    "    user = \"postgres\",\n",
    "    port = 5432,\n",
    "    )\n",
    "conn.autocommit = True\n",
    "cursor = conn.cursor()\n",
    "cursor.execute('CREATE SCHEMA training_centre;')\n",
    "cursor.execute('set search_path = \"training_centre\";')"
   ],
   "id": "3876c26733cab966",
   "outputs": [],
   "execution_count": 3
  },
  {
   "metadata": {
    "ExecuteTime": {
     "end_time": "2024-06-03T19:01:24.097892Z",
     "start_time": "2024-06-03T19:01:24.064516Z"
    }
   },
   "cell_type": "code",
   "source": [
    "cursor.execute('''\n",
    "CREATE TABLE Continent (\n",
    "    ContinentID SERIAL PRIMARY KEY,\n",
    "    Name VARCHAR(255) NOT NULL\n",
    ");\n",
    "''')"
   ],
   "id": "8e1d77a4b7e4570e",
   "outputs": [],
   "execution_count": 4
  },
  {
   "metadata": {
    "ExecuteTime": {
     "end_time": "2024-06-03T19:01:25.448816Z",
     "start_time": "2024-06-03T19:01:25.431750Z"
    }
   },
   "cell_type": "code",
   "source": [
    "cursor.execute('''\n",
    "CREATE TABLE Country (\n",
    "    CountryID SERIAL PRIMARY KEY,\n",
    "    Name VARCHAR(255) NOT NULL,\n",
    "    ContinentID INT NOT NULL,\n",
    "    FOREIGN KEY (ContinentID) REFERENCES Continent(ContinentID)\n",
    ");\n",
    "''')"
   ],
   "id": "284f8885317340ff",
   "outputs": [],
   "execution_count": 5
  },
  {
   "metadata": {
    "ExecuteTime": {
     "end_time": "2024-06-03T19:01:26.049884Z",
     "start_time": "2024-06-03T19:01:26.037242Z"
    }
   },
   "cell_type": "code",
   "source": [
    "cursor.execute('''\n",
    "CREATE TABLE Region (\n",
    "    RegionID SERIAL PRIMARY KEY,\n",
    "    Name VARCHAR(255) NOT NULL,\n",
    "    CountryID INT NOT NULL,\n",
    "    FOREIGN KEY (CountryID) REFERENCES Country(CountryID)\n",
    ");\n",
    "''')"
   ],
   "id": "e3829375e6266b6e",
   "outputs": [],
   "execution_count": 6
  },
  {
   "metadata": {
    "ExecuteTime": {
     "end_time": "2024-06-03T19:01:26.477655Z",
     "start_time": "2024-06-03T19:01:26.463650Z"
    }
   },
   "cell_type": "code",
   "source": [
    "cursor.execute('''\n",
    "CREATE TABLE City (\n",
    "    CityID SERIAL PRIMARY KEY,\n",
    "    Name VARCHAR(255) NOT NULL,\n",
    "    RegionID INT NOT NULL,\n",
    "    FOREIGN KEY (RegionID) REFERENCES Region(RegionID)\n",
    ");\n",
    "''')"
   ],
   "id": "c9df3bf60a901cd8",
   "outputs": [],
   "execution_count": 7
  },
  {
   "metadata": {
    "ExecuteTime": {
     "end_time": "2024-06-03T19:01:26.833264Z",
     "start_time": "2024-06-03T19:01:26.820736Z"
    }
   },
   "cell_type": "code",
   "source": [
    "cursor.execute('''\n",
    "CREATE TABLE Organization (\n",
    "    OrganizationID SERIAL PRIMARY KEY,\n",
    "    Name VARCHAR(255) NOT NULL\n",
    ");\n",
    "''')"
   ],
   "id": "d47e2ff05ac31d08",
   "outputs": [],
   "execution_count": 8
  },
  {
   "metadata": {
    "ExecuteTime": {
     "end_time": "2024-06-03T19:01:27.330027Z",
     "start_time": "2024-06-03T19:01:27.315382Z"
    }
   },
   "cell_type": "code",
   "source": [
    "cursor.execute('''\n",
    "CREATE TABLE Service (\n",
    "    ServiceID SERIAL PRIMARY KEY,\n",
    "    Name VARCHAR(255) NOT NULL,\n",
    "    Address INT NOT NULL,\n",
    "    OrganizationID INT NOT NULL,\n",
    "    FOREIGN KEY (Address) REFERENCES City(CityID),\n",
    "    FOREIGN KEY (OrganizationID) REFERENCES Organization(OrganizationID)\n",
    ");\n",
    "''')"
   ],
   "id": "221b58e583dd7fba",
   "outputs": [],
   "execution_count": 9
  },
  {
   "metadata": {
    "ExecuteTime": {
     "end_time": "2024-06-03T19:01:28.189907Z",
     "start_time": "2024-06-03T19:01:28.173552Z"
    }
   },
   "cell_type": "code",
   "source": [
    "cursor.execute('''\n",
    "CREATE TABLE Supervisor (\n",
    "    SupervisorID SERIAL PRIMARY KEY,\n",
    "    Name VARCHAR(255) NOT NULL,\n",
    "    ContactDetails TEXT NOT NULL,\n",
    "    Keywords TEXT NOT NULL,\n",
    "    ServiceID INT NOT NULL,\n",
    "    FOREIGN KEY (ServiceID) REFERENCES Service(ServiceID)\n",
    ");\n",
    "''')"
   ],
   "id": "fcda4cd0a0126923",
   "outputs": [],
   "execution_count": 10
  },
  {
   "metadata": {},
   "cell_type": "markdown",
   "source": "#### MongoDB",
   "id": "3448e6407b1e3038"
  },
  {
   "metadata": {},
   "cell_type": "code",
   "outputs": [],
   "execution_count": null,
   "source": "#TODO",
   "id": "cb9c97beb87a52fa"
  },
  {
   "metadata": {},
   "cell_type": "markdown",
   "source": "### 2. Implement the uniqueness constraint on the fields: continent name, organization name on both.",
   "id": "dafedca3f74de5f8"
  },
  {
   "metadata": {},
   "cell_type": "markdown",
   "source": "#### PostgreSQL",
   "id": "76607ae2ba90e87e"
  },
  {
   "metadata": {
    "ExecuteTime": {
     "end_time": "2024-06-03T19:02:38.512846Z",
     "start_time": "2024-06-03T19:02:38.502262Z"
    }
   },
   "cell_type": "code",
   "source": [
    "cursor.execute('''\n",
    "ALTER TABLE Continent\n",
    "ADD CONSTRAINT unique_continent_name UNIQUE (Name);\n",
    "''')"
   ],
   "id": "28debf6254c137e0",
   "outputs": [],
   "execution_count": 11
  },
  {
   "metadata": {
    "ExecuteTime": {
     "end_time": "2024-06-03T19:02:39.722056Z",
     "start_time": "2024-06-03T19:02:39.713221Z"
    }
   },
   "cell_type": "code",
   "source": [
    "cursor.execute('''\n",
    "ALTER TABLE Organization\n",
    "ADD CONSTRAINT unique_organization_name UNIQUE (Name);\n",
    "''')"
   ],
   "id": "7bf927e1d1facad3",
   "outputs": [],
   "execution_count": 12
  },
  {
   "metadata": {},
   "cell_type": "markdown",
   "source": "#### MongoDB",
   "id": "9247b6c51cae7093"
  },
  {
   "metadata": {},
   "cell_type": "code",
   "outputs": [],
   "execution_count": null,
   "source": "# TODO",
   "id": "c4e0f34d9c35f3c2"
  },
  {
   "metadata": {},
   "cell_type": "markdown",
   "source": "### 3. Populate your database with at least the following cardinalities [10 organizations, 5 Services/per organization (randomly assigned to different continents)]",
   "id": "77291a196aceded5"
  },
  {
   "metadata": {},
   "cell_type": "markdown",
   "source": "#### PostgreSQL",
   "id": "afe16d6938d9d4cd"
  },
  {
   "metadata": {
    "ExecuteTime": {
     "end_time": "2024-06-03T19:07:06.368869Z",
     "start_time": "2024-06-03T19:07:06.358363Z"
    }
   },
   "cell_type": "code",
   "source": [
    "cursor.execute('''\n",
    "INSERT INTO Continent (Name) VALUES ('Europe'), ('Asia'), ('Africa'), ('North America'), ('South America');\n",
    "''')"
   ],
   "id": "55a74dfc9f988418",
   "outputs": [],
   "execution_count": 13
  },
  {
   "metadata": {
    "ExecuteTime": {
     "end_time": "2024-06-03T19:07:06.853964Z",
     "start_time": "2024-06-03T19:07:06.843398Z"
    }
   },
   "cell_type": "code",
   "source": [
    "cursor.execute('''\n",
    "INSERT INTO Country (Name, ContinentID) VALUES \n",
    "('France', 1), \n",
    "('Germany', 1),\n",
    "('China', 2), \n",
    "('India', 2), \n",
    "('Kenya', 3), \n",
    "('South Africa', 3), \n",
    "('USA', 4), \n",
    "('Canada', 4), \n",
    "('Brazil', 5), \n",
    "('Argentina', 5);\n",
    "''')"
   ],
   "id": "a387092cafaf94f3",
   "outputs": [],
   "execution_count": 14
  },
  {
   "metadata": {
    "ExecuteTime": {
     "end_time": "2024-06-03T19:07:07.264505Z",
     "start_time": "2024-06-03T19:07:07.256386Z"
    }
   },
   "cell_type": "code",
   "source": [
    "cursor.execute('''\n",
    "INSERT INTO Region (Name, CountryID) VALUES \n",
    "('Paris', 1), \n",
    "('Bavaria', 2), \n",
    "('Guangdong', 3), \n",
    "('Maharashtra', 4), \n",
    "('Nairobi', 5), \n",
    "('Western Cape', 6), \n",
    "('California', 7), \n",
    "('Ontario', 8), \n",
    "('São Paulo', 9), \n",
    "('Buenos Aires', 10);\n",
    "''')"
   ],
   "id": "c923e27b65f5924d",
   "outputs": [],
   "execution_count": 15
  },
  {
   "metadata": {
    "ExecuteTime": {
     "end_time": "2024-06-03T19:07:07.759143Z",
     "start_time": "2024-06-03T19:07:07.752350Z"
    }
   },
   "cell_type": "code",
   "source": [
    "cursor.execute('''\n",
    "INSERT INTO City (Name, RegionID) VALUES \n",
    "('Paris', 1), \n",
    "('Munich', 2), \n",
    "('Guangzhou', 3), \n",
    "('Mumbai', 4), \n",
    "('Nairobi', 5), \n",
    "('Cape Town', 6), \n",
    "('San Francisco', 7), \n",
    "('Toronto', 8), \n",
    "('São Paulo', 9), \n",
    "('Buenos Aires', 10);\n",
    "''')"
   ],
   "id": "e658678eac1c8e65",
   "outputs": [],
   "execution_count": 16
  },
  {
   "metadata": {
    "ExecuteTime": {
     "end_time": "2024-06-03T19:07:08.257624Z",
     "start_time": "2024-06-03T19:07:08.250203Z"
    }
   },
   "cell_type": "code",
   "source": [
    "cursor.execute('''\n",
    "INSERT INTO Organization (Name) VALUES \n",
    "('Harvard University'), \n",
    "('MIT'), \n",
    "('Stanford University'), \n",
    "('Oxford University'), \n",
    "('Cambridge University'), \n",
    "('Tsinghua University'), \n",
    "('Peking University'), \n",
    "('ETH Zurich'), \n",
    "('University of Tokyo'), \n",
    "('Max Planck Institute');\n",
    "''')"
   ],
   "id": "177ae43214fbe8f5",
   "outputs": [],
   "execution_count": 17
  },
  {
   "metadata": {
    "ExecuteTime": {
     "end_time": "2024-06-03T19:07:08.748101Z",
     "start_time": "2024-06-03T19:07:08.736144Z"
    }
   },
   "cell_type": "code",
   "source": [
    "cursor.execute('''\n",
    "INSERT INTO Service (Name, Address, OrganizationID) VALUES \n",
    "('Department of Computer Science', 1, 1), \n",
    "('Department of Mathematics', 2, 1), \n",
    "('Department of Physics', 3, 1), \n",
    "('Department of Biology', 4, 1), \n",
    "('Department of Chemistry', 5, 1), \n",
    "('Division of Engineering', 6, 2), \n",
    "('Division of Humanities', 7, 2), \n",
    "('Division of Social Sciences', 8, 2), \n",
    "('Division of Natural Sciences', 9, 2), \n",
    "('Division of Arts', 10, 2), \n",
    "('Institute of Technology', 1, 3), \n",
    "('Institute of Medicine', 2, 3), \n",
    "('Institute of Law', 3, 3), \n",
    "('Institute of Business', 4, 3), \n",
    "('Institute of Education', 5, 3), \n",
    "('Faculty of Science', 6, 4), \n",
    "('Faculty of Engineering', 7, 4), \n",
    "('Faculty of Arts', 8, 4), \n",
    "('Faculty of Law', 9, 4), \n",
    "('Faculty of Medicine', 10, 4), \n",
    "('School of Engineering', 1, 5), \n",
    "('School of Business', 2, 5), \n",
    "('School of Arts', 3, 5), \n",
    "('School of Education', 4, 5), \n",
    "('School of Law', 5, 5), \n",
    "('Research Lab A', 6, 6), \n",
    "('Research Lab B', 7, 6), \n",
    "('Research Lab C', 8, 6), \n",
    "('Research Lab D', 9, 6), \n",
    "('Research Lab E', 10, 6), \n",
    "('Center for Advanced Studies', 1, 7), \n",
    "('Center for Basic Sciences', 2, 7), \n",
    "('Center for Applied Sciences', 3, 7), \n",
    "('Center for Theoretical Physics', 4, 7), \n",
    "('Center for Molecular Biology', 5, 7), \n",
    "('Institute of Advanced Research', 6, 8), \n",
    "('Institute of Fundamental Research', 7, 8), \n",
    "('Institute of Applied Research', 8, 8), \n",
    "('Institute of Social Research', 9, 8), \n",
    "('Institute of Economic Research', 10, 8), \n",
    "('Laboratory of Physics', 1, 9), \n",
    "('Laboratory of Chemistry', 2, 9), \n",
    "('Laboratory of Biology', 3, 9), \n",
    "('Laboratory of Computer Science', 4, 9), \n",
    "('Laboratory of Environmental Science', 5, 9), \n",
    "('School of Humanities', 6, 10), \n",
    "('School of Social Sciences', 7, 10), \n",
    "('School of Natural Sciences', 8, 10), \n",
    "('School of Engineering', 9, 10), \n",
    "('School of Health Sciences', 10, 10);\n",
    "''')"
   ],
   "id": "6b931fc0906447b2",
   "outputs": [],
   "execution_count": 18
  },
  {
   "metadata": {
    "ExecuteTime": {
     "end_time": "2024-06-03T19:07:09.394111Z",
     "start_time": "2024-06-03T19:07:09.386629Z"
    }
   },
   "cell_type": "code",
   "source": [
    "cursor.execute('''\n",
    "INSERT INTO Supervisor (Name, ContactDetails, Keywords, ServiceID) VALUES \n",
    "('John Doe', 'john@example.com', 'Software Development', 1), \n",
    "('Jane Smith', 'jane@example.com', 'Data Science', 2), \n",
    "('Jim Brown', 'jim@example.com', 'Networking', 3), \n",
    "('Jill White', 'jill@example.com', 'AI Research', 4), \n",
    "('Jack Black', 'jack@example.com', 'Cybersecurity', 5);\n",
    "''')"
   ],
   "id": "c79979f882d1961d",
   "outputs": [],
   "execution_count": 19
  },
  {
   "metadata": {},
   "cell_type": "markdown",
   "source": "#### MongoDB",
   "id": "c25a9a1bbd4e8b22"
  },
  {
   "metadata": {},
   "cell_type": "code",
   "outputs": [],
   "execution_count": null,
   "source": "# TODO",
   "id": "552106b0bcfe2bea"
  },
  {
   "metadata": {},
   "cell_type": "markdown",
   "source": "## Querying",
   "id": "d6748a87f7836090"
  },
  {
   "metadata": {},
   "cell_type": "markdown",
   "source": "### 1. Display the name of the organizations and respectively the number of services located on the European continent.",
   "id": "3a5056690dc034c3"
  },
  {
   "metadata": {},
   "cell_type": "markdown",
   "source": "#### PostgreSQL",
   "id": "17c99c9a8ffa14ee"
  },
  {
   "metadata": {
    "ExecuteTime": {
     "end_time": "2024-06-03T19:09:23.230349Z",
     "start_time": "2024-06-03T19:09:22.995787Z"
    }
   },
   "cell_type": "code",
   "source": [
    "start_time = time.time()\n",
    "result = sqlio.read_sql_query(\"\"\"\n",
    "SELECT \n",
    "    O.Name AS OrganizationName, \n",
    "    COUNT(S.ServiceID) AS NumberOfServices\n",
    "FROM \n",
    "    Organization O\n",
    "JOIN \n",
    "    Service S ON O.OrganizationID = S.OrganizationID\n",
    "JOIN \n",
    "    City C ON S.Address = C.CityID\n",
    "JOIN \n",
    "    Region R ON C.RegionID = R.RegionID\n",
    "JOIN \n",
    "    Country CO ON R.CountryID = CO.CountryID\n",
    "JOIN \n",
    "    Continent CON ON CO.ContinentID = CON.ContinentID\n",
    "WHERE \n",
    "    CON.Name = 'Europe'\n",
    "GROUP BY \n",
    "    O.OrganizationID, O.Name;\n",
    "\n",
    "\"\"\",conn)\n",
    "end_time = time.time()\n",
    "result.head()"
   ],
   "id": "f0d103fe17a40180",
   "outputs": [
    {
     "data": {
      "text/plain": [
       "       organizationname  numberofservices\n",
       "0    Harvard University                 2\n",
       "1   Stanford University                 2\n",
       "2  Cambridge University                 2\n",
       "3     Peking University                 2\n",
       "4   University of Tokyo                 2"
      ],
      "text/html": [
       "<div>\n",
       "<style scoped>\n",
       "    .dataframe tbody tr th:only-of-type {\n",
       "        vertical-align: middle;\n",
       "    }\n",
       "\n",
       "    .dataframe tbody tr th {\n",
       "        vertical-align: top;\n",
       "    }\n",
       "\n",
       "    .dataframe thead th {\n",
       "        text-align: right;\n",
       "    }\n",
       "</style>\n",
       "<table border=\"1\" class=\"dataframe\">\n",
       "  <thead>\n",
       "    <tr style=\"text-align: right;\">\n",
       "      <th></th>\n",
       "      <th>organizationname</th>\n",
       "      <th>numberofservices</th>\n",
       "    </tr>\n",
       "  </thead>\n",
       "  <tbody>\n",
       "    <tr>\n",
       "      <th>0</th>\n",
       "      <td>Harvard University</td>\n",
       "      <td>2</td>\n",
       "    </tr>\n",
       "    <tr>\n",
       "      <th>1</th>\n",
       "      <td>Stanford University</td>\n",
       "      <td>2</td>\n",
       "    </tr>\n",
       "    <tr>\n",
       "      <th>2</th>\n",
       "      <td>Cambridge University</td>\n",
       "      <td>2</td>\n",
       "    </tr>\n",
       "    <tr>\n",
       "      <th>3</th>\n",
       "      <td>Peking University</td>\n",
       "      <td>2</td>\n",
       "    </tr>\n",
       "    <tr>\n",
       "      <th>4</th>\n",
       "      <td>University of Tokyo</td>\n",
       "      <td>2</td>\n",
       "    </tr>\n",
       "  </tbody>\n",
       "</table>\n",
       "</div>"
      ]
     },
     "execution_count": 21,
     "metadata": {},
     "output_type": "execute_result"
    }
   ],
   "execution_count": 21
  },
  {
   "metadata": {},
   "cell_type": "markdown",
   "source": "#### MongoDB",
   "id": "5a98cbe3732a714f"
  },
  {
   "metadata": {},
   "cell_type": "code",
   "outputs": [],
   "execution_count": null,
   "source": "# TODO",
   "id": "81b9247fb0dbf09d"
  },
  {
   "metadata": {},
   "cell_type": "markdown",
   "source": "### 2. Analyze and compare the execution performance on the two systems.",
   "id": "787f143b6d68ff06"
  },
  {
   "metadata": {},
   "cell_type": "markdown",
   "source": "#### PostgreSQL",
   "id": "b35ed69931e41d0a"
  },
  {
   "metadata": {
    "ExecuteTime": {
     "end_time": "2024-06-03T19:09:36.733738Z",
     "start_time": "2024-06-03T19:09:36.730317Z"
    }
   },
   "cell_type": "code",
   "source": "print(f'PostgreSQL executed in {round(end_time - start_time, 2)} seconds')",
   "id": "7ae34e73b690edf9",
   "outputs": [
    {
     "name": "stdout",
     "output_type": "stream",
     "text": [
      "PostgreSQL executed in 0.22 seconds\n"
     ]
    }
   ],
   "execution_count": 22
  },
  {
   "metadata": {},
   "cell_type": "markdown",
   "source": "#### MongoDB",
   "id": "9faf5cdbf599ca2e"
  },
  {
   "metadata": {},
   "cell_type": "code",
   "outputs": [],
   "execution_count": null,
   "source": "# TODO",
   "id": "ebd1a78d2b9f1bb"
  }
 ],
 "metadata": {
  "kernelspec": {
   "display_name": "Python 3",
   "language": "python",
   "name": "python3"
  },
  "language_info": {
   "codemirror_mode": {
    "name": "ipython",
    "version": 2
   },
   "file_extension": ".py",
   "mimetype": "text/x-python",
   "name": "python",
   "nbconvert_exporter": "python",
   "pygments_lexer": "ipython2",
   "version": "2.7.6"
  }
 },
 "nbformat": 4,
 "nbformat_minor": 5
}
