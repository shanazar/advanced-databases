{
 "cells": [
  {
   "metadata": {},
   "cell_type": "markdown",
   "source": [
    "# Project #4"
   ],
   "id": "f712487b6b63429f"
  },
  {
   "metadata": {},
   "cell_type": "markdown",
   "source": [
    "## Kristjan Lõhmus, Rimmo Rõõm"
   ],
   "id": "879b98a8593c6896"
  },
  {
   "metadata": {},
   "cell_type": "markdown",
   "source": [
    "Description: \\\n",
    "We desire to build a system to manage the internship locations for the Professional training center. For\n",
    "this purpose, in mind, we host the discussion with the management committee to look for their\n",
    "specifications. The resumes from this meeting are:\n",
    "* A city is located a specific region (or state, for example, for federal countries like the USA), country\n",
    "and continent. By this way, a city can be identified by the triplet (e.g. Tartu linn, Estonia, Europe).\n",
    "According to their explanation, a city is associated with a single region, a single country and a\n",
    "single continent. These three pieces of data are mandatory for each city in the db.\n",
    "* An organization (for example a large company, a university or a research center) is structured into\n",
    "services (which may have as name of service the words department, division, laboratory, etc.). A\n",
    "service is characterized by an address, which is the city in which the service is located.\n",
    "* The student’s supervisors or service employees are characterized by their names and contact\n",
    "details and a list of keywords which define their sector of activity, and linked to the service in\n",
    "which they work."
   ],
   "id": "1dbbf74b05f9c4bf"
  },
  {
   "metadata": {},
   "cell_type": "markdown",
   "source": [
    "## Task 1. Modelling"
   ],
   "id": "5d93fa20a83cdc48"
  },
  {
   "metadata": {},
   "cell_type": "markdown",
   "source": [
    "### 1. CDM model\n",
    "Here's a high level CDM that I would present to some C-level management: \\\n",
    "![High-level CDM model](./img/high_level_cdm_model.jpg)\n",
    "\n",
    "And here's the low-level one that I would present to more technical people: \\\n",
    "![Low-level CDM model](./img/low_level_cdm_model.jpg)\n"
   ],
   "id": "f5aecae36be5f02a"
  },
  {
   "metadata": {},
   "cell_type": "markdown",
   "source": [
    "### 2. RDM\n",
    "\n",
    "The RDM is pretty much the same as the low-level CDM with foreign keys added (Service has Address added as an extra field)."
   ],
   "id": "d28340f1829b8799"
  },
  {
   "metadata": {},
   "cell_type": "markdown",
   "source": [
    "### 3. Document Data model\n",
    "\n",
    "#### Continents Collection:\n",
    "- Key-Value Pairs:\n",
    "  - `_id`: ObjectID (automatically generated unique identifier)\n",
    "  - `name`: String (name of the continent)\n",
    "\n",
    "#### Countries Collection:\n",
    "- Key-Value Pairs:\n",
    "  - `_id`: ObjectID (automatically generated unique identifier)\n",
    "  - `name`: String (name of the country)\n",
    "  - `continent_id`: ObjectID (reference to the continent document)\n",
    "\n",
    "#### Regions Collection:\n",
    "- Key-Value Pairs:\n",
    "  - `_id`: ObjectID (automatically generated unique identifier)\n",
    "  - `name`: String (name of the region)\n",
    "  - `country_id`: ObjectID (reference to the country document)\n",
    "\n",
    "#### Cities Collection:\n",
    "- Key-Value Pairs:\n",
    "  - `_id`: ObjectID (automatically generated unique identifier)\n",
    "  - `name`: String (name of the city)\n",
    "  - `region_id`: ObjectID (reference to the region document)\n",
    "\n",
    "#### Organizations Collection:\n",
    "- Key-Value Pairs:\n",
    "  - `_id`: ObjectID (automatically generated unique identifier)\n",
    "  - `name`: String (name of the organization)\n",
    "\n",
    "#### Services Collection:\n",
    "- Key-Value Pairs:\n",
    "  - `_id`: ObjectID (automatically generated unique identifier)\n",
    "  - `name`: String (name of the service)\n",
    "  - `address`: Object (address details, such as city_id)\n",
    "    - `city_id`: ObjectID (reference to the city document)\n",
    "  - `organization_id`: ObjectID (reference to the organization document)\n",
    "\n",
    "#### Supervisors Collection:\n",
    "- Key-Value Pairs:\n",
    "  - `_id`: ObjectID (automatically generated unique identifier)\n",
    "  - `name`: String (name of the supervisor)\n",
    "  - `contact`: Object (contact details)\n",
    "    - `email`: String (email address)\n",
    "    - `phone`: String (phone number)\n",
    "  - `keywords`: Array of Strings (keywords defining supervisor's expertise)\n",
    "  - `service_id`: ObjectID (reference to the service document)"
   ],
   "id": "d75d7a999eb96ef4"
  },
  {
   "metadata": {},
   "cell_type": "markdown",
   "source": [
    "## 2. Implementation"
   ],
   "id": "1f5043546576071f"
  },
  {
   "metadata": {},
   "cell_type": "markdown",
   "source": [
    "### 1. Implement each structure on a native data engine"
   ],
   "id": "8827531fc72398fa"
  },
  {
   "metadata": {},
   "cell_type": "markdown",
   "source": [
    "#### PostgreSQL"
   ],
   "id": "5de527e96e97b00d"
  },
  {
   "metadata": {
    "ExecuteTime": {
     "end_time": "2024-06-03T19:08:16.321076Z",
     "start_time": "2024-06-03T19:08:16.317239Z"
    }
   },
   "cell_type": "code",
   "source": [
    "import psycopg2\n",
    "import pandas.io.sql as sqlio\n",
    "import pandas as pd\n",
    "import warnings\n",
    "import time\n",
    "warnings.filterwarnings('ignore')"
   ],
   "id": "initial_id",
   "outputs": [],
   "execution_count": 20
  },
  {
   "metadata": {
    "ExecuteTime": {
     "end_time": "2024-06-03T19:01:22.850251Z",
     "start_time": "2024-06-03T19:01:22.802172Z"
    }
   },
   "cell_type": "code",
   "source": [
    "conn = psycopg2.connect(\n",
    "    host= 'localhost',\n",
    "    password = \"postgres\",\n",
    "    user = \"postgres\",\n",
    "    port = 5432,\n",
    "    )\n",
    "conn.autocommit = True\n",
    "cursor = conn.cursor()\n",
    "cursor.execute('CREATE SCHEMA training_centre;')\n",
    "cursor.execute('set search_path = \"training_centre\";')"
   ],
   "id": "3876c26733cab966",
   "outputs": [],
   "execution_count": 3
  },
  {
   "metadata": {
    "ExecuteTime": {
     "end_time": "2024-06-03T19:01:24.097892Z",
     "start_time": "2024-06-03T19:01:24.064516Z"
    }
   },
   "cell_type": "code",
   "source": [
    "cursor.execute('''\n",
    "CREATE TABLE Continent (\n",
    "    ContinentID SERIAL PRIMARY KEY,\n",
    "    Name VARCHAR(255) NOT NULL\n",
    ");\n",
    "''')"
   ],
   "id": "8e1d77a4b7e4570e",
   "outputs": [],
   "execution_count": 4
  },
  {
   "metadata": {
    "ExecuteTime": {
     "end_time": "2024-06-03T19:01:25.448816Z",
     "start_time": "2024-06-03T19:01:25.431750Z"
    }
   },
   "cell_type": "code",
   "source": [
    "cursor.execute('''\n",
    "CREATE TABLE Country (\n",
    "    CountryID SERIAL PRIMARY KEY,\n",
    "    Name VARCHAR(255) NOT NULL,\n",
    "    ContinentID INT NOT NULL,\n",
    "    FOREIGN KEY (ContinentID) REFERENCES Continent(ContinentID)\n",
    ");\n",
    "''')"
   ],
   "id": "284f8885317340ff",
   "outputs": [],
   "execution_count": 5
  },
  {
   "metadata": {
    "ExecuteTime": {
     "end_time": "2024-06-03T19:01:26.049884Z",
     "start_time": "2024-06-03T19:01:26.037242Z"
    }
   },
   "cell_type": "code",
   "source": [
    "cursor.execute('''\n",
    "CREATE TABLE Region (\n",
    "    RegionID SERIAL PRIMARY KEY,\n",
    "    Name VARCHAR(255) NOT NULL,\n",
    "    CountryID INT NOT NULL,\n",
    "    FOREIGN KEY (CountryID) REFERENCES Country(CountryID)\n",
    ");\n",
    "''')"
   ],
   "id": "e3829375e6266b6e",
   "outputs": [],
   "execution_count": 6
  },
  {
   "metadata": {
    "ExecuteTime": {
     "end_time": "2024-06-03T19:01:26.477655Z",
     "start_time": "2024-06-03T19:01:26.463650Z"
    }
   },
   "cell_type": "code",
   "source": [
    "cursor.execute('''\n",
    "CREATE TABLE City (\n",
    "    CityID SERIAL PRIMARY KEY,\n",
    "    Name VARCHAR(255) NOT NULL,\n",
    "    RegionID INT NOT NULL,\n",
    "    FOREIGN KEY (RegionID) REFERENCES Region(RegionID)\n",
    ");\n",
    "''')"
   ],
   "id": "c9df3bf60a901cd8",
   "outputs": [],
   "execution_count": 7
  },
  {
   "metadata": {
    "ExecuteTime": {
     "end_time": "2024-06-03T19:01:26.833264Z",
     "start_time": "2024-06-03T19:01:26.820736Z"
    }
   },
   "cell_type": "code",
   "source": [
    "cursor.execute('''\n",
    "CREATE TABLE Organization (\n",
    "    OrganizationID SERIAL PRIMARY KEY,\n",
    "    Name VARCHAR(255) NOT NULL\n",
    ");\n",
    "''')"
   ],
   "id": "d47e2ff05ac31d08",
   "outputs": [],
   "execution_count": 8
  },
  {
   "metadata": {
    "ExecuteTime": {
     "end_time": "2024-06-03T19:01:27.330027Z",
     "start_time": "2024-06-03T19:01:27.315382Z"
    }
   },
   "cell_type": "code",
   "source": [
    "cursor.execute('''\n",
    "CREATE TABLE Service (\n",
    "    ServiceID SERIAL PRIMARY KEY,\n",
    "    Name VARCHAR(255) NOT NULL,\n",
    "    Address INT NOT NULL,\n",
    "    OrganizationID INT NOT NULL,\n",
    "    FOREIGN KEY (Address) REFERENCES City(CityID),\n",
    "    FOREIGN KEY (OrganizationID) REFERENCES Organization(OrganizationID)\n",
    ");\n",
    "''')"
   ],
   "id": "221b58e583dd7fba",
   "outputs": [],
   "execution_count": 9
  },
  {
   "metadata": {
    "ExecuteTime": {
     "end_time": "2024-06-03T19:01:28.189907Z",
     "start_time": "2024-06-03T19:01:28.173552Z"
    }
   },
   "cell_type": "code",
   "source": [
    "cursor.execute('''\n",
    "CREATE TABLE Supervisor (\n",
    "    SupervisorID SERIAL PRIMARY KEY,\n",
    "    Name VARCHAR(255) NOT NULL,\n",
    "    ContactDetails TEXT NOT NULL,\n",
    "    Keywords TEXT NOT NULL,\n",
    "    ServiceID INT NOT NULL,\n",
    "    FOREIGN KEY (ServiceID) REFERENCES Service(ServiceID)\n",
    ");\n",
    "''')"
   ],
   "id": "fcda4cd0a0126923",
   "outputs": [],
   "execution_count": 10
  },
  {
   "metadata": {},
   "cell_type": "markdown",
   "source": [
    "#### MongoDB"
   ],
   "id": "3448e6407b1e3038"
  },
  {
   "metadata": {},
   "cell_type": "code",
   "outputs": [],
   "execution_count": 11,
   "source": [
    "from pymongo import MongoClient\n",
    "\n",
    "# Connect to MongoDB\n",
    "client = MongoClient('mongodb://localhost:27017/')\n",
    "db = client['training_centre']\n",
    "\n",
    "# Drop existing collections if they exist\n",
    "db.continents.drop()\n",
    "db.countries.drop()\n",
    "db.regions.drop()\n",
    "db.cities.drop()\n",
    "db.organizations.drop()\n",
    "db.services.drop()\n",
    "db.supervisors.drop()\n",
    "\n",
    "# Create collections\n",
    "continents = db['continents']\n",
    "countries = db['countries']\n",
    "regions = db['regions']\n",
    "cities = db['cities']\n",
    "organizations = db['organizations']\n",
    "services = db['services']\n",
    "supervisors = db['supervisors']"
   ],
   "id": "cb9c97beb87a52fa"
  },
  {
   "metadata": {},
   "cell_type": "markdown",
   "source": [
    "### 2. Implement the uniqueness constraint on the fields: continent name, organization name on both."
   ],
   "id": "dafedca3f74de5f8"
  },
  {
   "metadata": {},
   "cell_type": "markdown",
   "source": [
    "#### PostgreSQL"
   ],
   "id": "76607ae2ba90e87e"
  },
  {
   "metadata": {
    "ExecuteTime": {
     "end_time": "2024-06-03T19:02:38.512846Z",
     "start_time": "2024-06-03T19:02:38.502262Z"
    }
   },
   "cell_type": "code",
   "source": [
    "cursor.execute('''\n",
    "ALTER TABLE Continent\n",
    "ADD CONSTRAINT unique_continent_name UNIQUE (Name);\n",
    "''')"
   ],
   "id": "28debf6254c137e0",
   "outputs": [],
   "execution_count": 11
  },
  {
   "metadata": {
    "ExecuteTime": {
     "end_time": "2024-06-03T19:02:39.722056Z",
     "start_time": "2024-06-03T19:02:39.713221Z"
    }
   },
   "cell_type": "code",
   "source": [
    "cursor.execute('''\n",
    "ALTER TABLE Organization\n",
    "ADD CONSTRAINT unique_organization_name UNIQUE (Name);\n",
    "''')"
   ],
   "id": "7bf927e1d1facad3",
   "outputs": [],
   "execution_count": 12
  },
  {
   "metadata": {},
   "cell_type": "markdown",
   "source": [
    "#### MongoDB"
   ],
   "id": "9247b6c51cae7093"
  },
  {
   "metadata": {},
   "cell_type": "code",
   "outputs": [
    {
     "name": "stdout",
     "output_type": "stream",
     "text": [
      "Unique indexes created successfully.\n"
     ]
    }
   ],
   "execution_count": 12,
   "source": [
    "from pymongo import errors\n",
    "\n",
    "# Create unique indexes\n",
    "try:\n",
    "    continents.create_index([(\"name\", 1)], unique=True)\n",
    "    organizations.create_index([(\"name\", 1)], unique=True)\n",
    "    print(\"Unique indexes created successfully.\")\n",
    "except errors.DuplicateKeyError as e:\n",
    "    print(f\"Error creating unique index: {e}\")"
   ],
   "id": "c4e0f34d9c35f3c2"
  },
  {
   "metadata": {},
   "cell_type": "markdown",
   "source": [
    "### 3. Populate your database with at least the following cardinalities [10 organizations, 5 Services/per organization (randomly assigned to different continents)]"
   ],
   "id": "77291a196aceded5"
  },
  {
   "metadata": {},
   "cell_type": "markdown",
   "source": [
    "#### PostgreSQL"
   ],
   "id": "afe16d6938d9d4cd"
  },
  {
   "metadata": {
    "ExecuteTime": {
     "end_time": "2024-06-03T19:07:06.368869Z",
     "start_time": "2024-06-03T19:07:06.358363Z"
    }
   },
   "cell_type": "code",
   "source": [
    "cursor.execute('''\n",
    "INSERT INTO Continent (Name) VALUES ('Europe'), ('Asia'), ('Africa'), ('North America'), ('South America');\n",
    "''')"
   ],
   "id": "55a74dfc9f988418",
   "outputs": [],
   "execution_count": 13
  },
  {
   "metadata": {
    "ExecuteTime": {
     "end_time": "2024-06-03T19:07:06.853964Z",
     "start_time": "2024-06-03T19:07:06.843398Z"
    }
   },
   "cell_type": "code",
   "source": [
    "cursor.execute('''\n",
    "INSERT INTO Country (Name, ContinentID) VALUES \n",
    "('France', 1), \n",
    "('Germany', 1),\n",
    "('China', 2), \n",
    "('India', 2), \n",
    "('Kenya', 3), \n",
    "('South Africa', 3), \n",
    "('USA', 4), \n",
    "('Canada', 4), \n",
    "('Brazil', 5), \n",
    "('Argentina', 5);\n",
    "''')"
   ],
   "id": "a387092cafaf94f3",
   "outputs": [],
   "execution_count": 14
  },
  {
   "metadata": {
    "ExecuteTime": {
     "end_time": "2024-06-03T19:07:07.264505Z",
     "start_time": "2024-06-03T19:07:07.256386Z"
    }
   },
   "cell_type": "code",
   "source": [
    "cursor.execute('''\n",
    "INSERT INTO Region (Name, CountryID) VALUES \n",
    "('Paris', 1), \n",
    "('Bavaria', 2), \n",
    "('Guangdong', 3), \n",
    "('Maharashtra', 4), \n",
    "('Nairobi', 5), \n",
    "('Western Cape', 6), \n",
    "('California', 7), \n",
    "('Ontario', 8), \n",
    "('São Paulo', 9), \n",
    "('Buenos Aires', 10);\n",
    "''')"
   ],
   "id": "c923e27b65f5924d",
   "outputs": [],
   "execution_count": 15
  },
  {
   "metadata": {
    "ExecuteTime": {
     "end_time": "2024-06-03T19:07:07.759143Z",
     "start_time": "2024-06-03T19:07:07.752350Z"
    }
   },
   "cell_type": "code",
   "source": [
    "cursor.execute('''\n",
    "INSERT INTO City (Name, RegionID) VALUES \n",
    "('Paris', 1), \n",
    "('Munich', 2), \n",
    "('Guangzhou', 3), \n",
    "('Mumbai', 4), \n",
    "('Nairobi', 5), \n",
    "('Cape Town', 6), \n",
    "('San Francisco', 7), \n",
    "('Toronto', 8), \n",
    "('São Paulo', 9), \n",
    "('Buenos Aires', 10);\n",
    "''')"
   ],
   "id": "e658678eac1c8e65",
   "outputs": [],
   "execution_count": 16
  },
  {
   "metadata": {
    "ExecuteTime": {
     "end_time": "2024-06-03T19:07:08.257624Z",
     "start_time": "2024-06-03T19:07:08.250203Z"
    }
   },
   "cell_type": "code",
   "source": [
    "cursor.execute('''\n",
    "INSERT INTO Organization (Name) VALUES \n",
    "('Harvard University'), \n",
    "('MIT'), \n",
    "('Stanford University'), \n",
    "('Oxford University'), \n",
    "('Cambridge University'), \n",
    "('Tsinghua University'), \n",
    "('Peking University'), \n",
    "('ETH Zurich'), \n",
    "('University of Tokyo'), \n",
    "('Max Planck Institute');\n",
    "''')"
   ],
   "id": "177ae43214fbe8f5",
   "outputs": [],
   "execution_count": 17
  },
  {
   "metadata": {
    "ExecuteTime": {
     "end_time": "2024-06-03T19:07:08.748101Z",
     "start_time": "2024-06-03T19:07:08.736144Z"
    }
   },
   "cell_type": "code",
   "source": [
    "cursor.execute('''\n",
    "INSERT INTO Service (Name, Address, OrganizationID) VALUES \n",
    "('Department of Computer Science', 1, 1), \n",
    "('Department of Mathematics', 2, 1), \n",
    "('Department of Physics', 3, 1), \n",
    "('Department of Biology', 4, 1), \n",
    "('Department of Chemistry', 5, 1), \n",
    "('Division of Engineering', 6, 2), \n",
    "('Division of Humanities', 7, 2), \n",
    "('Division of Social Sciences', 8, 2), \n",
    "('Division of Natural Sciences', 9, 2), \n",
    "('Division of Arts', 10, 2), \n",
    "('Institute of Technology', 1, 3), \n",
    "('Institute of Medicine', 2, 3), \n",
    "('Institute of Law', 3, 3), \n",
    "('Institute of Business', 4, 3), \n",
    "('Institute of Education', 5, 3), \n",
    "('Faculty of Science', 6, 4), \n",
    "('Faculty of Engineering', 7, 4), \n",
    "('Faculty of Arts', 8, 4), \n",
    "('Faculty of Law', 9, 4), \n",
    "('Faculty of Medicine', 10, 4), \n",
    "('School of Engineering', 1, 5), \n",
    "('School of Business', 2, 5), \n",
    "('School of Arts', 3, 5), \n",
    "('School of Education', 4, 5), \n",
    "('School of Law', 5, 5), \n",
    "('Research Lab A', 6, 6), \n",
    "('Research Lab B', 7, 6), \n",
    "('Research Lab C', 8, 6), \n",
    "('Research Lab D', 9, 6), \n",
    "('Research Lab E', 10, 6), \n",
    "('Center for Advanced Studies', 1, 7), \n",
    "('Center for Basic Sciences', 2, 7), \n",
    "('Center for Applied Sciences', 3, 7), \n",
    "('Center for Theoretical Physics', 4, 7), \n",
    "('Center for Molecular Biology', 5, 7), \n",
    "('Institute of Advanced Research', 6, 8), \n",
    "('Institute of Fundamental Research', 7, 8), \n",
    "('Institute of Applied Research', 8, 8), \n",
    "('Institute of Social Research', 9, 8), \n",
    "('Institute of Economic Research', 10, 8), \n",
    "('Laboratory of Physics', 1, 9), \n",
    "('Laboratory of Chemistry', 2, 9), \n",
    "('Laboratory of Biology', 3, 9), \n",
    "('Laboratory of Computer Science', 4, 9), \n",
    "('Laboratory of Environmental Science', 5, 9), \n",
    "('School of Humanities', 6, 10), \n",
    "('School of Social Sciences', 7, 10), \n",
    "('School of Natural Sciences', 8, 10), \n",
    "('School of Engineering', 9, 10), \n",
    "('School of Health Sciences', 10, 10);\n",
    "''')"
   ],
   "id": "6b931fc0906447b2",
   "outputs": [],
   "execution_count": 18
  },
  {
   "metadata": {
    "ExecuteTime": {
     "end_time": "2024-06-03T19:07:09.394111Z",
     "start_time": "2024-06-03T19:07:09.386629Z"
    }
   },
   "cell_type": "code",
   "source": [
    "cursor.execute('''\n",
    "INSERT INTO Supervisor (Name, ContactDetails, Keywords, ServiceID) VALUES \n",
    "('John Doe', 'john@example.com', 'Software Development', 1), \n",
    "('Jane Smith', 'jane@example.com', 'Data Science', 2), \n",
    "('Jim Brown', 'jim@example.com', 'Networking', 3), \n",
    "('Jill White', 'jill@example.com', 'AI Research', 4), \n",
    "('Jack Black', 'jack@example.com', 'Cybersecurity', 5);\n",
    "''')"
   ],
   "id": "c79979f882d1961d",
   "outputs": [],
   "execution_count": 19
  },
  {
   "metadata": {},
   "cell_type": "markdown",
   "source": [
    "#### MongoDB"
   ],
   "id": "c25a9a1bbd4e8b22"
  },
  {
   "metadata": {},
   "cell_type": "code",
   "outputs": [],
   "execution_count": 13,
   "source": [
    "import random\n",
    "\n",
    "# Insert sample data for continents\n",
    "continent_ids = {\n",
    "    \"Europe\": continents.insert_one({\"name\": \"Europe\"}).inserted_id,\n",
    "    \"Asia\": continents.insert_one({\"name\": \"Asia\"}).inserted_id,\n",
    "    \"Africa\": continents.insert_one({\"name\": \"Africa\"}).inserted_id,\n",
    "    \"North America\": continents.insert_one({\"name\": \"North America\"}).inserted_id,\n",
    "    \"South America\": continents.insert_one({\"name\": \"South America\"}).inserted_id,\n",
    "}\n",
    "\n",
    "# Insert sample data for countries\n",
    "country_data = [\n",
    "    (\"France\", \"Europe\"), (\"Germany\", \"Europe\"),\n",
    "    (\"China\", \"Asia\"), (\"India\", \"Asia\"),\n",
    "    (\"Kenya\", \"Africa\"), (\"South Africa\", \"Africa\"),\n",
    "    (\"USA\", \"North America\"), (\"Canada\", \"North America\"),\n",
    "    (\"Brazil\", \"South America\"), (\"Argentina\", \"South America\")\n",
    "]\n",
    "\n",
    "country_ids = {}\n",
    "for country, continent in country_data:\n",
    "    country_ids[country] = countries.insert_one({\n",
    "        \"name\": country,\n",
    "        \"continent_id\": continent_ids[continent]\n",
    "    }).inserted_id\n",
    "\n",
    "# Insert sample data for regions\n",
    "region_data = [\n",
    "    (\"Paris\", \"France\"), (\"Bavaria\", \"Germany\"),\n",
    "    (\"Guangdong\", \"China\"), (\"Maharashtra\", \"India\"),\n",
    "    (\"Nairobi\", \"Kenya\"), (\"Western Cape\", \"South Africa\"),\n",
    "    (\"California\", \"USA\"), (\"Ontario\", \"Canada\"),\n",
    "    (\"São Paulo\", \"Brazil\"), (\"Buenos Aires\", \"Argentina\")\n",
    "]\n",
    "\n",
    "region_ids = {}\n",
    "for region, country in region_data:\n",
    "    region_ids[region] = regions.insert_one({\n",
    "        \"name\": region,\n",
    "        \"country_id\": country_ids[country]\n",
    "    }).inserted_id\n",
    "\n",
    "# Insert sample data for cities\n",
    "city_data = [\n",
    "    (\"Paris\", \"Paris\"), (\"Munich\", \"Bavaria\"),\n",
    "    (\"Guangzhou\", \"Guangdong\"), (\"Mumbai\", \"Maharashtra\"),\n",
    "    (\"Nairobi\", \"Nairobi\"), (\"Cape Town\", \"Western Cape\"),\n",
    "    (\"San Francisco\", \"California\"), (\"Toronto\", \"Ontario\"),\n",
    "    (\"São Paulo\", \"São Paulo\"), (\"Buenos Aires\", \"Buenos Aires\")\n",
    "]\n",
    "\n",
    "city_ids = {}\n",
    "for city, region in city_data:\n",
    "    city_ids[city] = cities.insert_one({\n",
    "        \"name\": city,\n",
    "        \"region_id\": region_ids[region]\n",
    "    }).inserted_id\n",
    "\n",
    "# Insert sample data for organizations\n",
    "organization_names = [\n",
    "    \"Harvard University\", \"MIT\", \"Stanford University\",\n",
    "    \"Oxford University\", \"Cambridge University\",\n",
    "    \"Tsinghua University\", \"Peking University\",\n",
    "    \"ETH Zurich\", \"University of Tokyo\", \"Max Planck Institute\"\n",
    "]\n",
    "\n",
    "organization_ids = []\n",
    "for org in organization_names:\n",
    "    organization_ids.append(organizations.insert_one({\"name\": org}).inserted_id)\n",
    "\n",
    "# Insert sample data for services and randomly assign to cities\n",
    "service_names = [\n",
    "    \"Department of Computer Science\", \"Department of Mathematics\", \"Department of Physics\",\n",
    "    \"Department of Biology\", \"Department of Chemistry\", \"Division of Engineering\",\n",
    "    \"Division of Humanities\", \"Division of Social Sciences\", \"Division of Natural Sciences\",\n",
    "    \"Division of Arts\", \"Institute of Technology\", \"Institute of Medicine\",\n",
    "    \"Institute of Law\", \"Institute of Business\", \"Institute of Education\",\n",
    "    \"Faculty of Science\", \"Faculty of Engineering\", \"Faculty of Arts\",\n",
    "    \"Faculty of Law\", \"Faculty of Medicine\", \"School of Engineering\",\n",
    "    \"School of Business\", \"School of Arts\", \"School of Education\",\n",
    "    \"School of Law\", \"Research Lab A\", \"Research Lab B\",\n",
    "    \"Research Lab C\", \"Research Lab D\", \"Research Lab E\",\n",
    "    \"Center for Advanced Studies\", \"Center for Basic Sciences\",\n",
    "    \"Center for Applied Sciences\", \"Center for Theoretical Physics\",\n",
    "    \"Center for Molecular Biology\", \"Institute of Advanced Research\",\n",
    "    \"Institute of Fundamental Research\", \"Institute of Applied Research\",\n",
    "    \"Institute of Social Research\", \"Institute of Economic Research\",\n",
    "    \"Laboratory of Physics\", \"Laboratory of Chemistry\",\n",
    "    \"Laboratory of Biology\", \"Laboratory of Computer Science\",\n",
    "    \"Laboratory of Environmental Science\", \"School of Humanities\",\n",
    "    \"School of Social Sciences\", \"School of Natural Sciences\",\n",
    "    \"School of Health Sciences\"\n",
    "]\n",
    "\n",
    "for org_id in organization_ids:\n",
    "    for _ in range(5):  # Insert 5 services per organization\n",
    "        service_name = random.choice(service_names)\n",
    "        city_id = random.choice(list(city_ids.values()))\n",
    "        services.insert_one({\n",
    "            \"name\": service_name,\n",
    "            \"address\": {\n",
    "                \"city_id\": city_id\n",
    "            },\n",
    "            \"organization_id\": org_id\n",
    "        })\n",
    "\n",
    "# Function to find service ID or handle missing service\n",
    "def get_service_id(service_name):\n",
    "    service = services.find_one({\"name\": service_name})\n",
    "    if service:\n",
    "        return service[\"_id\"]\n",
    "    else:\n",
    "        print(f\"Service '{service_name}' not found.\")\n",
    "        return None\n",
    "\n",
    "# Insert sample data for supervisors\n",
    "supervisor_data = [\n",
    "    (\"John Doe\", \"john@example.com\", \"+123456789\", [\"Software Development\"], \"Department of Computer Science\"),\n",
    "    (\"Jane Smith\", \"jane@example.com\", \"+987654321\", [\"Data Science\"], \"Department of Mathematics\"),\n",
    "    (\"Jim Brown\", \"jim@example.com\", \"+1122334455\", [\"Networking\"], \"Department of Physics\"),\n",
    "    (\"Jill White\", \"jill@example.com\", \"+5566778899\", [\"AI Research\"], \"Department of Biology\"),\n",
    "    (\"Jack Black\", \"jack@example.com\", \"+9988776655\", [\"Cybersecurity\"], \"Department of Chemistry\")\n",
    "]\n",
    "\n",
    "for name, email, phone, keywords, service_name in supervisor_data:\n",
    "    service_id = get_service_id(service_name)\n",
    "    if service_id:\n",
    "        supervisors.insert_one({\n",
    "            \"name\": name,\n",
    "            \"contact\": {\n",
    "                \"email\": email,\n",
    "                \"phone\": phone\n",
    "            },\n",
    "            \"keywords\": keywords,\n",
    "            \"service_id\": service_id\n",
    "        })"
   ],
   "id": "552106b0bcfe2bea"
  },
  {
   "metadata": {},
   "cell_type": "markdown",
   "source": [
    "## Querying"
   ],
   "id": "d6748a87f7836090"
  },
  {
   "metadata": {},
   "cell_type": "markdown",
   "source": [
    "### 1. Display the name of the organizations and respectively the number of services located on the European continent."
   ],
   "id": "3a5056690dc034c3"
  },
  {
   "metadata": {},
   "cell_type": "markdown",
   "source": [
    "#### PostgreSQL"
   ],
   "id": "17c99c9a8ffa14ee"
  },
  {
   "metadata": {
    "ExecuteTime": {
     "end_time": "2024-06-03T19:09:23.230349Z",
     "start_time": "2024-06-03T19:09:22.995787Z"
    }
   },
   "cell_type": "code",
   "source": [
    "start_time = time.time()\n",
    "result = sqlio.read_sql_query(\"\"\"\n",
    "SELECT \n",
    "    O.Name AS OrganizationName, \n",
    "    COUNT(S.ServiceID) AS NumberOfServices\n",
    "FROM \n",
    "    Organization O\n",
    "JOIN \n",
    "    Service S ON O.OrganizationID = S.OrganizationID\n",
    "JOIN \n",
    "    City C ON S.Address = C.CityID\n",
    "JOIN \n",
    "    Region R ON C.RegionID = R.RegionID\n",
    "JOIN \n",
    "    Country CO ON R.CountryID = CO.CountryID\n",
    "JOIN \n",
    "    Continent CON ON CO.ContinentID = CON.ContinentID\n",
    "WHERE \n",
    "    CON.Name = 'Europe'\n",
    "GROUP BY \n",
    "    O.OrganizationID, O.Name;\n",
    "\n",
    "\"\"\",conn)\n",
    "end_time = time.time()\n",
    "result.head()"
   ],
   "id": "f0d103fe17a40180",
   "outputs": [
    {
     "data": {
      "text/plain": [
       "       organizationname  numberofservices\n",
       "0    Harvard University                 2\n",
       "1   Stanford University                 2\n",
       "2  Cambridge University                 2\n",
       "3     Peking University                 2\n",
       "4   University of Tokyo                 2"
      ],
      "text/html": [
       "<div>\n",
       "<style scoped>\n",
       "    .dataframe tbody tr th:only-of-type {\n",
       "        vertical-align: middle;\n",
       "    }\n",
       "\n",
       "    .dataframe tbody tr th {\n",
       "        vertical-align: top;\n",
       "    }\n",
       "\n",
       "    .dataframe thead th {\n",
       "        text-align: right;\n",
       "    }\n",
       "</style>\n",
       "<table border=\"1\" class=\"dataframe\">\n",
       "  <thead>\n",
       "    <tr style=\"text-align: right;\">\n",
       "      <th></th>\n",
       "      <th>organizationname</th>\n",
       "      <th>numberofservices</th>\n",
       "    </tr>\n",
       "  </thead>\n",
       "  <tbody>\n",
       "    <tr>\n",
       "      <th>0</th>\n",
       "      <td>Harvard University</td>\n",
       "      <td>2</td>\n",
       "    </tr>\n",
       "    <tr>\n",
       "      <th>1</th>\n",
       "      <td>Stanford University</td>\n",
       "      <td>2</td>\n",
       "    </tr>\n",
       "    <tr>\n",
       "      <th>2</th>\n",
       "      <td>Cambridge University</td>\n",
       "      <td>2</td>\n",
       "    </tr>\n",
       "    <tr>\n",
       "      <th>3</th>\n",
       "      <td>Peking University</td>\n",
       "      <td>2</td>\n",
       "    </tr>\n",
       "    <tr>\n",
       "      <th>4</th>\n",
       "      <td>University of Tokyo</td>\n",
       "      <td>2</td>\n",
       "    </tr>\n",
       "  </tbody>\n",
       "</table>\n",
       "</div>"
      ]
     },
     "execution_count": 21,
     "metadata": {},
     "output_type": "execute_result"
    }
   ],
   "execution_count": 21
  },
  {
   "metadata": {},
   "cell_type": "markdown",
   "source": [
    "#### MongoDB"
   ],
   "id": "5a98cbe3732a714f"
  },
  {
   "metadata": {},
   "cell_type": "code",
   "outputs": [
    {
     "name": "stdout",
     "output_type": "stream",
     "text": [
      "{'number_of_services': 625, 'organization_name': 'Stanford University'}\n",
      "{'number_of_services': 320, 'organization_name': 'Harvard University'}\n",
      "{'number_of_services': 625, 'organization_name': 'Tsinghua University'}\n",
      "{'number_of_services': 320, 'organization_name': 'Oxford University'}\n",
      "{'number_of_services': 135, 'organization_name': 'ETH Zurich'}\n",
      "{'number_of_services': 625, 'organization_name': 'MIT'}\n"
     ]
    }
   ],
   "execution_count": 15,
   "source": [
    "import time\n",
    "\n",
    "# Perform the aggregation query\n",
    "pipeline = [\n",
    "    {\n",
    "        '$lookup': {\n",
    "            'from': 'services',\n",
    "            'localField': '_id',\n",
    "            'foreignField': 'organization_id',\n",
    "            'as': 'services'\n",
    "        }\n",
    "    },\n",
    "    {\n",
    "        '$lookup': {\n",
    "            'from': 'cities',\n",
    "            'localField': 'services.address.city_id',\n",
    "            'foreignField': '_id',\n",
    "            'as': 'cities'\n",
    "        }\n",
    "    },\n",
    "    {\n",
    "        '$lookup': {\n",
    "            'from': 'regions',\n",
    "            'localField': 'cities.region_id',\n",
    "            'foreignField': '_id',\n",
    "            'as': 'regions'\n",
    "        }\n",
    "    },\n",
    "    {\n",
    "        '$lookup': {\n",
    "            'from': 'countries',\n",
    "            'localField': 'regions.country_id',\n",
    "            'foreignField': '_id',\n",
    "            'as': 'countries'\n",
    "        }\n",
    "    },\n",
    "    {\n",
    "        '$lookup': {\n",
    "            'from': 'continents',\n",
    "            'localField': 'countries.continent_id',\n",
    "            'foreignField': '_id',\n",
    "            'as': 'continents'\n",
    "        }\n",
    "    },\n",
    "    {\n",
    "        '$unwind': '$services'\n",
    "    },\n",
    "    {\n",
    "        '$unwind': '$cities'\n",
    "    },\n",
    "    {\n",
    "        '$unwind': '$regions'\n",
    "    },\n",
    "    {\n",
    "        '$unwind': '$countries'\n",
    "    },\n",
    "    {\n",
    "        '$unwind': '$continents'\n",
    "    },\n",
    "    {\n",
    "        '$match': {\n",
    "            'continents.name': 'Europe'\n",
    "        }\n",
    "    },\n",
    "    {\n",
    "        '$group': {\n",
    "            '_id': {\n",
    "                'organization_id': '$_id',\n",
    "                'organization_name': '$name'\n",
    "            },\n",
    "            'number_of_services': {'$sum': 1}\n",
    "        }\n",
    "    },\n",
    "    {\n",
    "        '$project': {\n",
    "            '_id': 0,\n",
    "            'organization_name': '$_id.organization_name',\n",
    "            'number_of_services': 1\n",
    "        }\n",
    "    }\n",
    "]\n",
    "\n",
    "start_time2 = time.time()\n",
    "result = list(db.organizations.aggregate(pipeline))\n",
    "end_time2 = time.time()\n",
    "\n",
    "for doc in result:\n",
    "    print(doc)"
   ],
   "id": "81b9247fb0dbf09d"
  },
  {
   "metadata": {},
   "cell_type": "markdown",
   "source": [
    "### 2. Analyze and compare the execution performance on the two systems."
   ],
   "id": "787f143b6d68ff06"
  },
  {
   "metadata": {},
   "cell_type": "markdown",
   "source": [
    "#### PostgreSQL"
   ],
   "id": "b35ed69931e41d0a"
  },
  {
   "metadata": {
    "ExecuteTime": {
     "end_time": "2024-06-03T19:09:36.733738Z",
     "start_time": "2024-06-03T19:09:36.730317Z"
    }
   },
   "cell_type": "code",
   "source": [
    "print(f'PostgreSQL executed in {round(end_time - start_time, 2)} seconds')"
   ],
   "id": "7ae34e73b690edf9",
   "outputs": [
    {
     "name": "stdout",
     "output_type": "stream",
     "text": [
      "PostgreSQL executed in 0.22 seconds\n"
     ]
    }
   ],
   "execution_count": 22
  },
  {
   "metadata": {},
   "cell_type": "markdown",
   "source": [
    "#### MongoDB"
   ],
   "id": "9faf5cdbf599ca2e"
  },
  {
   "metadata": {},
   "cell_type": "code",
   "outputs": [
    {
     "name": "stdout",
     "output_type": "stream",
     "text": [
      "Mongodb executed in 0.02 seconds\n"
     ]
    }
   ],
   "execution_count": 16,
   "source": [
    "print(f\"Mongodb executed in {end_time2 - start_time2:.2f} seconds\")"
   ],
   "id": "ebd1a78d2b9f1bb"
  },
  {
   "cell_type": "code",
   "execution_count": null,
   "outputs": [],
   "source": [],
   "metadata": {
    "collapsed": false
   }
  }
 ],
 "metadata": {
  "kernelspec": {
   "display_name": "Python 3",
   "language": "python",
   "name": "python3"
  },
  "language_info": {
   "codemirror_mode": {
    "name": "ipython",
    "version": 2
   },
   "file_extension": ".py",
   "mimetype": "text/x-python",
   "name": "python",
   "nbconvert_exporter": "python",
   "pygments_lexer": "ipython2",
   "version": "2.7.6"
  }
 },
 "nbformat": 4,
 "nbformat_minor": 5
}
